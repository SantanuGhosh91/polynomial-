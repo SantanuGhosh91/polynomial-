{
 "cells": [
  {
   "cell_type": "markdown",
   "metadata": {
    "id": "9AiXI2RylEU5"
   },
   "source": [
    "# Penalized Regression Techniques"
   ]
  },
  {
   "cell_type": "code",
   "execution_count": 1,
   "metadata": {
    "executionInfo": {
     "elapsed": 3569,
     "status": "ok",
     "timestamp": 1612602193960,
     "user": {
      "displayName": "Pradeepta Mishra",
      "photoUrl": "https://lh3.googleusercontent.com/a-/AOh14Gg5L62HDYcIJigsOgsBvW1ar0qHZqoYX4NwMBxYiq8=s64",
      "userId": "08371374182622470276"
     },
     "user_tz": -330
    },
    "id": "50a4eyHxlEVA"
   },
   "outputs": [],
   "source": [
    "# L1- Lasso Regression\n",
    "# L2- Ridge Regression\n",
    "# Enet- Elastic Net "
   ]
  },
  {
   "cell_type": "code",
   "execution_count": 2,
   "metadata": {
    "executionInfo": {
     "elapsed": 5314,
     "status": "ok",
     "timestamp": 1612602195711,
     "user": {
      "displayName": "Pradeepta Mishra",
      "photoUrl": "https://lh3.googleusercontent.com/a-/AOh14Gg5L62HDYcIJigsOgsBvW1ar0qHZqoYX4NwMBxYiq8=s64",
      "userId": "08371374182622470276"
     },
     "user_tz": -330
    },
    "id": "Mvx1ipE2lEVC"
   },
   "outputs": [],
   "source": [
    "import pandas as pd\n",
    "import numpy as np\n",
    "import matplotlib.pyplot as plt\n",
    "%matplotlib inline\n",
    "from sklearn.model_selection import cross_val_score\n",
    "from sklearn.linear_model import LinearRegression"
   ]
  },
  {
   "cell_type": "code",
   "execution_count": 3,
   "metadata": {
    "executionInfo": {
     "elapsed": 5312,
     "status": "ok",
     "timestamp": 1612602195713,
     "user": {
      "displayName": "Pradeepta Mishra",
      "photoUrl": "https://lh3.googleusercontent.com/a-/AOh14Gg5L62HDYcIJigsOgsBvW1ar0qHZqoYX4NwMBxYiq8=s64",
      "userId": "08371374182622470276"
     },
     "user_tz": -330
    },
    "id": "jdJB8Ap2lEVC"
   },
   "outputs": [],
   "source": [
    "from sklearn import datasets, linear_model\n",
    "from sklearn import model_selection as cv\n",
    "from scipy import linalg"
   ]
  },
  {
   "cell_type": "code",
   "execution_count": 4,
   "metadata": {
    "executionInfo": {
     "elapsed": 5310,
     "status": "ok",
     "timestamp": 1612602195714,
     "user": {
      "displayName": "Pradeepta Mishra",
      "photoUrl": "https://lh3.googleusercontent.com/a-/AOh14Gg5L62HDYcIJigsOgsBvW1ar0qHZqoYX4NwMBxYiq8=s64",
      "userId": "08371374182622470276"
     },
     "user_tz": -330
    },
    "id": "Ru7C83btlEVD"
   },
   "outputs": [],
   "source": [
    "bhdata = datasets.load_boston()\n",
    "\n",
    "featuredata = bhdata.data\n",
    "\n",
    "colnames = bhdata.feature_names #variable names\n",
    "\n",
    "data = pd.DataFrame(featuredata,columns=colnames) # predictors of MEDV\n",
    "data['target'] = bhdata.target #median value of housing prices"
   ]
  },
  {
   "cell_type": "code",
   "execution_count": 5,
   "metadata": {
    "colab": {
     "base_uri": "https://localhost:8080/",
     "height": 204
    },
    "executionInfo": {
     "elapsed": 5292,
     "status": "ok",
     "timestamp": 1612602195715,
     "user": {
      "displayName": "Pradeepta Mishra",
      "photoUrl": "https://lh3.googleusercontent.com/a-/AOh14Gg5L62HDYcIJigsOgsBvW1ar0qHZqoYX4NwMBxYiq8=s64",
      "userId": "08371374182622470276"
     },
     "user_tz": -330
    },
    "id": "P7I0UPOslEVD",
    "outputId": "961d4bec-a423-4f00-bdf0-1e0a35cfc44c"
   },
   "outputs": [
    {
     "data": {
      "text/html": [
       "<div>\n",
       "<style scoped>\n",
       "    .dataframe tbody tr th:only-of-type {\n",
       "        vertical-align: middle;\n",
       "    }\n",
       "\n",
       "    .dataframe tbody tr th {\n",
       "        vertical-align: top;\n",
       "    }\n",
       "\n",
       "    .dataframe thead th {\n",
       "        text-align: right;\n",
       "    }\n",
       "</style>\n",
       "<table border=\"1\" class=\"dataframe\">\n",
       "  <thead>\n",
       "    <tr style=\"text-align: right;\">\n",
       "      <th></th>\n",
       "      <th>CRIM</th>\n",
       "      <th>ZN</th>\n",
       "      <th>INDUS</th>\n",
       "      <th>CHAS</th>\n",
       "      <th>NOX</th>\n",
       "      <th>RM</th>\n",
       "      <th>AGE</th>\n",
       "      <th>DIS</th>\n",
       "      <th>RAD</th>\n",
       "      <th>TAX</th>\n",
       "      <th>PTRATIO</th>\n",
       "      <th>B</th>\n",
       "      <th>LSTAT</th>\n",
       "      <th>target</th>\n",
       "    </tr>\n",
       "  </thead>\n",
       "  <tbody>\n",
       "    <tr>\n",
       "      <th>0</th>\n",
       "      <td>0.00632</td>\n",
       "      <td>18.0</td>\n",
       "      <td>2.31</td>\n",
       "      <td>0.0</td>\n",
       "      <td>0.538</td>\n",
       "      <td>6.575</td>\n",
       "      <td>65.2</td>\n",
       "      <td>4.0900</td>\n",
       "      <td>1.0</td>\n",
       "      <td>296.0</td>\n",
       "      <td>15.3</td>\n",
       "      <td>396.90</td>\n",
       "      <td>4.98</td>\n",
       "      <td>24.0</td>\n",
       "    </tr>\n",
       "    <tr>\n",
       "      <th>1</th>\n",
       "      <td>0.02731</td>\n",
       "      <td>0.0</td>\n",
       "      <td>7.07</td>\n",
       "      <td>0.0</td>\n",
       "      <td>0.469</td>\n",
       "      <td>6.421</td>\n",
       "      <td>78.9</td>\n",
       "      <td>4.9671</td>\n",
       "      <td>2.0</td>\n",
       "      <td>242.0</td>\n",
       "      <td>17.8</td>\n",
       "      <td>396.90</td>\n",
       "      <td>9.14</td>\n",
       "      <td>21.6</td>\n",
       "    </tr>\n",
       "    <tr>\n",
       "      <th>2</th>\n",
       "      <td>0.02729</td>\n",
       "      <td>0.0</td>\n",
       "      <td>7.07</td>\n",
       "      <td>0.0</td>\n",
       "      <td>0.469</td>\n",
       "      <td>7.185</td>\n",
       "      <td>61.1</td>\n",
       "      <td>4.9671</td>\n",
       "      <td>2.0</td>\n",
       "      <td>242.0</td>\n",
       "      <td>17.8</td>\n",
       "      <td>392.83</td>\n",
       "      <td>4.03</td>\n",
       "      <td>34.7</td>\n",
       "    </tr>\n",
       "    <tr>\n",
       "      <th>3</th>\n",
       "      <td>0.03237</td>\n",
       "      <td>0.0</td>\n",
       "      <td>2.18</td>\n",
       "      <td>0.0</td>\n",
       "      <td>0.458</td>\n",
       "      <td>6.998</td>\n",
       "      <td>45.8</td>\n",
       "      <td>6.0622</td>\n",
       "      <td>3.0</td>\n",
       "      <td>222.0</td>\n",
       "      <td>18.7</td>\n",
       "      <td>394.63</td>\n",
       "      <td>2.94</td>\n",
       "      <td>33.4</td>\n",
       "    </tr>\n",
       "    <tr>\n",
       "      <th>4</th>\n",
       "      <td>0.06905</td>\n",
       "      <td>0.0</td>\n",
       "      <td>2.18</td>\n",
       "      <td>0.0</td>\n",
       "      <td>0.458</td>\n",
       "      <td>7.147</td>\n",
       "      <td>54.2</td>\n",
       "      <td>6.0622</td>\n",
       "      <td>3.0</td>\n",
       "      <td>222.0</td>\n",
       "      <td>18.7</td>\n",
       "      <td>396.90</td>\n",
       "      <td>5.33</td>\n",
       "      <td>36.2</td>\n",
       "    </tr>\n",
       "  </tbody>\n",
       "</table>\n",
       "</div>"
      ],
      "text/plain": [
       "      CRIM    ZN  INDUS  CHAS    NOX  ...    TAX  PTRATIO       B  LSTAT  target\n",
       "0  0.00632  18.0   2.31   0.0  0.538  ...  296.0     15.3  396.90   4.98    24.0\n",
       "1  0.02731   0.0   7.07   0.0  0.469  ...  242.0     17.8  396.90   9.14    21.6\n",
       "2  0.02729   0.0   7.07   0.0  0.469  ...  242.0     17.8  392.83   4.03    34.7\n",
       "3  0.03237   0.0   2.18   0.0  0.458  ...  222.0     18.7  394.63   2.94    33.4\n",
       "4  0.06905   0.0   2.18   0.0  0.458  ...  222.0     18.7  396.90   5.33    36.2\n",
       "\n",
       "[5 rows x 14 columns]"
      ]
     },
     "execution_count": 5,
     "metadata": {
      "tags": []
     },
     "output_type": "execute_result"
    }
   ],
   "source": [
    "data.head()"
   ]
  },
  {
   "cell_type": "code",
   "execution_count": 6,
   "metadata": {
    "colab": {
     "base_uri": "https://localhost:8080/"
    },
    "executionInfo": {
     "elapsed": 5276,
     "status": "ok",
     "timestamp": 1612602195716,
     "user": {
      "displayName": "Pradeepta Mishra",
      "photoUrl": "https://lh3.googleusercontent.com/a-/AOh14Gg5L62HDYcIJigsOgsBvW1ar0qHZqoYX4NwMBxYiq8=s64",
      "userId": "08371374182622470276"
     },
     "user_tz": -330
    },
    "id": "dLLV5VkClEVE",
    "outputId": "ac9aac7e-d6dd-4a79-8b35-b89db95b62e1"
   },
   "outputs": [
    {
     "data": {
      "text/plain": [
       "(506, 14)"
      ]
     },
     "execution_count": 6,
     "metadata": {
      "tags": []
     },
     "output_type": "execute_result"
    }
   ],
   "source": [
    "data.shape"
   ]
  },
  {
   "cell_type": "code",
   "execution_count": 7,
   "metadata": {
    "colab": {
     "base_uri": "https://localhost:8080/"
    },
    "executionInfo": {
     "elapsed": 5264,
     "status": "ok",
     "timestamp": 1612602195717,
     "user": {
      "displayName": "Pradeepta Mishra",
      "photoUrl": "https://lh3.googleusercontent.com/a-/AOh14Gg5L62HDYcIJigsOgsBvW1ar0qHZqoYX4NwMBxYiq8=s64",
      "userId": "08371374182622470276"
     },
     "user_tz": -330
    },
    "id": "3wMSHPIalEVF",
    "outputId": "181d079a-23c1-4b2c-96e7-20746166b5b7"
   },
   "outputs": [
    {
     "data": {
      "text/plain": [
       "650"
      ]
     },
     "execution_count": 7,
     "metadata": {
      "tags": []
     },
     "output_type": "execute_result"
    }
   ],
   "source": [
    "13*50"
   ]
  },
  {
   "cell_type": "code",
   "execution_count": 8,
   "metadata": {
    "colab": {
     "base_uri": "https://localhost:8080/",
     "height": 297
    },
    "executionInfo": {
     "elapsed": 5253,
     "status": "ok",
     "timestamp": 1612602195718,
     "user": {
      "displayName": "Pradeepta Mishra",
      "photoUrl": "https://lh3.googleusercontent.com/a-/AOh14Gg5L62HDYcIJigsOgsBvW1ar0qHZqoYX4NwMBxYiq8=s64",
      "userId": "08371374182622470276"
     },
     "user_tz": -330
    },
    "id": "8WSJJSGzlEVH",
    "outputId": "57774775-a5c8-4f62-b078-4360cbd74b47"
   },
   "outputs": [
    {
     "data": {
      "text/html": [
       "<div>\n",
       "<style scoped>\n",
       "    .dataframe tbody tr th:only-of-type {\n",
       "        vertical-align: middle;\n",
       "    }\n",
       "\n",
       "    .dataframe tbody tr th {\n",
       "        vertical-align: top;\n",
       "    }\n",
       "\n",
       "    .dataframe thead th {\n",
       "        text-align: right;\n",
       "    }\n",
       "</style>\n",
       "<table border=\"1\" class=\"dataframe\">\n",
       "  <thead>\n",
       "    <tr style=\"text-align: right;\">\n",
       "      <th></th>\n",
       "      <th>CRIM</th>\n",
       "      <th>ZN</th>\n",
       "      <th>INDUS</th>\n",
       "      <th>CHAS</th>\n",
       "      <th>NOX</th>\n",
       "      <th>RM</th>\n",
       "      <th>AGE</th>\n",
       "      <th>DIS</th>\n",
       "      <th>RAD</th>\n",
       "      <th>TAX</th>\n",
       "      <th>PTRATIO</th>\n",
       "      <th>B</th>\n",
       "      <th>LSTAT</th>\n",
       "      <th>target</th>\n",
       "    </tr>\n",
       "  </thead>\n",
       "  <tbody>\n",
       "    <tr>\n",
       "      <th>count</th>\n",
       "      <td>506.000000</td>\n",
       "      <td>506.000000</td>\n",
       "      <td>506.000000</td>\n",
       "      <td>506.000000</td>\n",
       "      <td>506.000000</td>\n",
       "      <td>506.000000</td>\n",
       "      <td>506.000000</td>\n",
       "      <td>506.000000</td>\n",
       "      <td>506.000000</td>\n",
       "      <td>506.000000</td>\n",
       "      <td>506.000000</td>\n",
       "      <td>506.000000</td>\n",
       "      <td>506.000000</td>\n",
       "      <td>506.000000</td>\n",
       "    </tr>\n",
       "    <tr>\n",
       "      <th>mean</th>\n",
       "      <td>3.613524</td>\n",
       "      <td>11.363636</td>\n",
       "      <td>11.136779</td>\n",
       "      <td>0.069170</td>\n",
       "      <td>0.554695</td>\n",
       "      <td>6.284634</td>\n",
       "      <td>68.574901</td>\n",
       "      <td>3.795043</td>\n",
       "      <td>9.549407</td>\n",
       "      <td>408.237154</td>\n",
       "      <td>18.455534</td>\n",
       "      <td>356.674032</td>\n",
       "      <td>12.653063</td>\n",
       "      <td>22.532806</td>\n",
       "    </tr>\n",
       "    <tr>\n",
       "      <th>std</th>\n",
       "      <td>8.601545</td>\n",
       "      <td>23.322453</td>\n",
       "      <td>6.860353</td>\n",
       "      <td>0.253994</td>\n",
       "      <td>0.115878</td>\n",
       "      <td>0.702617</td>\n",
       "      <td>28.148861</td>\n",
       "      <td>2.105710</td>\n",
       "      <td>8.707259</td>\n",
       "      <td>168.537116</td>\n",
       "      <td>2.164946</td>\n",
       "      <td>91.294864</td>\n",
       "      <td>7.141062</td>\n",
       "      <td>9.197104</td>\n",
       "    </tr>\n",
       "    <tr>\n",
       "      <th>min</th>\n",
       "      <td>0.006320</td>\n",
       "      <td>0.000000</td>\n",
       "      <td>0.460000</td>\n",
       "      <td>0.000000</td>\n",
       "      <td>0.385000</td>\n",
       "      <td>3.561000</td>\n",
       "      <td>2.900000</td>\n",
       "      <td>1.129600</td>\n",
       "      <td>1.000000</td>\n",
       "      <td>187.000000</td>\n",
       "      <td>12.600000</td>\n",
       "      <td>0.320000</td>\n",
       "      <td>1.730000</td>\n",
       "      <td>5.000000</td>\n",
       "    </tr>\n",
       "    <tr>\n",
       "      <th>25%</th>\n",
       "      <td>0.082045</td>\n",
       "      <td>0.000000</td>\n",
       "      <td>5.190000</td>\n",
       "      <td>0.000000</td>\n",
       "      <td>0.449000</td>\n",
       "      <td>5.885500</td>\n",
       "      <td>45.025000</td>\n",
       "      <td>2.100175</td>\n",
       "      <td>4.000000</td>\n",
       "      <td>279.000000</td>\n",
       "      <td>17.400000</td>\n",
       "      <td>375.377500</td>\n",
       "      <td>6.950000</td>\n",
       "      <td>17.025000</td>\n",
       "    </tr>\n",
       "    <tr>\n",
       "      <th>50%</th>\n",
       "      <td>0.256510</td>\n",
       "      <td>0.000000</td>\n",
       "      <td>9.690000</td>\n",
       "      <td>0.000000</td>\n",
       "      <td>0.538000</td>\n",
       "      <td>6.208500</td>\n",
       "      <td>77.500000</td>\n",
       "      <td>3.207450</td>\n",
       "      <td>5.000000</td>\n",
       "      <td>330.000000</td>\n",
       "      <td>19.050000</td>\n",
       "      <td>391.440000</td>\n",
       "      <td>11.360000</td>\n",
       "      <td>21.200000</td>\n",
       "    </tr>\n",
       "    <tr>\n",
       "      <th>75%</th>\n",
       "      <td>3.677083</td>\n",
       "      <td>12.500000</td>\n",
       "      <td>18.100000</td>\n",
       "      <td>0.000000</td>\n",
       "      <td>0.624000</td>\n",
       "      <td>6.623500</td>\n",
       "      <td>94.075000</td>\n",
       "      <td>5.188425</td>\n",
       "      <td>24.000000</td>\n",
       "      <td>666.000000</td>\n",
       "      <td>20.200000</td>\n",
       "      <td>396.225000</td>\n",
       "      <td>16.955000</td>\n",
       "      <td>25.000000</td>\n",
       "    </tr>\n",
       "    <tr>\n",
       "      <th>max</th>\n",
       "      <td>88.976200</td>\n",
       "      <td>100.000000</td>\n",
       "      <td>27.740000</td>\n",
       "      <td>1.000000</td>\n",
       "      <td>0.871000</td>\n",
       "      <td>8.780000</td>\n",
       "      <td>100.000000</td>\n",
       "      <td>12.126500</td>\n",
       "      <td>24.000000</td>\n",
       "      <td>711.000000</td>\n",
       "      <td>22.000000</td>\n",
       "      <td>396.900000</td>\n",
       "      <td>37.970000</td>\n",
       "      <td>50.000000</td>\n",
       "    </tr>\n",
       "  </tbody>\n",
       "</table>\n",
       "</div>"
      ],
      "text/plain": [
       "             CRIM          ZN       INDUS  ...           B       LSTAT      target\n",
       "count  506.000000  506.000000  506.000000  ...  506.000000  506.000000  506.000000\n",
       "mean     3.613524   11.363636   11.136779  ...  356.674032   12.653063   22.532806\n",
       "std      8.601545   23.322453    6.860353  ...   91.294864    7.141062    9.197104\n",
       "min      0.006320    0.000000    0.460000  ...    0.320000    1.730000    5.000000\n",
       "25%      0.082045    0.000000    5.190000  ...  375.377500    6.950000   17.025000\n",
       "50%      0.256510    0.000000    9.690000  ...  391.440000   11.360000   21.200000\n",
       "75%      3.677083   12.500000   18.100000  ...  396.225000   16.955000   25.000000\n",
       "max     88.976200  100.000000   27.740000  ...  396.900000   37.970000   50.000000\n",
       "\n",
       "[8 rows x 14 columns]"
      ]
     },
     "execution_count": 8,
     "metadata": {
      "tags": []
     },
     "output_type": "execute_result"
    }
   ],
   "source": [
    "data.describe()"
   ]
  },
  {
   "cell_type": "code",
   "execution_count": 9,
   "metadata": {
    "executionInfo": {
     "elapsed": 5251,
     "status": "ok",
     "timestamp": 1612602195719,
     "user": {
      "displayName": "Pradeepta Mishra",
      "photoUrl": "https://lh3.googleusercontent.com/a-/AOh14Gg5L62HDYcIJigsOgsBvW1ar0qHZqoYX4NwMBxYiq8=s64",
      "userId": "08371374182622470276"
     },
     "user_tz": -330
    },
    "id": "trd1OFdVlEVI"
   },
   "outputs": [],
   "source": [
    "#split the dataset into training and testig \n",
    "data_train, data_test = cv.train_test_split(data,test_size=0.30,random_state=34)"
   ]
  },
  {
   "cell_type": "code",
   "execution_count": 10,
   "metadata": {
    "colab": {
     "base_uri": "https://localhost:8080/"
    },
    "executionInfo": {
     "elapsed": 5237,
     "status": "ok",
     "timestamp": 1612602195720,
     "user": {
      "displayName": "Pradeepta Mishra",
      "photoUrl": "https://lh3.googleusercontent.com/a-/AOh14Gg5L62HDYcIJigsOgsBvW1ar0qHZqoYX4NwMBxYiq8=s64",
      "userId": "08371374182622470276"
     },
     "user_tz": -330
    },
    "id": "DFTIEjWvlEVI",
    "outputId": "8f3e281b-9b2a-4b59-b30a-d976972d64f9"
   },
   "outputs": [
    {
     "data": {
      "text/plain": [
       "((354, 14), (152, 14))"
      ]
     },
     "execution_count": 10,
     "metadata": {
      "tags": []
     },
     "output_type": "execute_result"
    }
   ],
   "source": [
    "data_train.shape,data_test.shape"
   ]
  },
  {
   "cell_type": "code",
   "execution_count": 11,
   "metadata": {
    "colab": {
     "base_uri": "https://localhost:8080/",
     "height": 483
    },
    "executionInfo": {
     "elapsed": 5229,
     "status": "ok",
     "timestamp": 1612602195721,
     "user": {
      "displayName": "Pradeepta Mishra",
      "photoUrl": "https://lh3.googleusercontent.com/a-/AOh14Gg5L62HDYcIJigsOgsBvW1ar0qHZqoYX4NwMBxYiq8=s64",
      "userId": "08371374182622470276"
     },
     "user_tz": -330
    },
    "id": "5Nc7-jMllEVI",
    "outputId": "4347753c-f7bb-4479-8a98-d2d3f5d8a2ca"
   },
   "outputs": [
    {
     "data": {
      "text/html": [
       "<div>\n",
       "<style scoped>\n",
       "    .dataframe tbody tr th:only-of-type {\n",
       "        vertical-align: middle;\n",
       "    }\n",
       "\n",
       "    .dataframe tbody tr th {\n",
       "        vertical-align: top;\n",
       "    }\n",
       "\n",
       "    .dataframe thead th {\n",
       "        text-align: right;\n",
       "    }\n",
       "</style>\n",
       "<table border=\"1\" class=\"dataframe\">\n",
       "  <thead>\n",
       "    <tr style=\"text-align: right;\">\n",
       "      <th></th>\n",
       "      <th>CRIM</th>\n",
       "      <th>ZN</th>\n",
       "      <th>INDUS</th>\n",
       "      <th>CHAS</th>\n",
       "      <th>NOX</th>\n",
       "      <th>RM</th>\n",
       "      <th>AGE</th>\n",
       "      <th>DIS</th>\n",
       "      <th>RAD</th>\n",
       "      <th>TAX</th>\n",
       "      <th>PTRATIO</th>\n",
       "      <th>B</th>\n",
       "      <th>LSTAT</th>\n",
       "      <th>target</th>\n",
       "    </tr>\n",
       "  </thead>\n",
       "  <tbody>\n",
       "    <tr>\n",
       "      <th>CRIM</th>\n",
       "      <td>1.000000</td>\n",
       "      <td>-0.200469</td>\n",
       "      <td>0.406583</td>\n",
       "      <td>-0.055892</td>\n",
       "      <td>0.420972</td>\n",
       "      <td>-0.219247</td>\n",
       "      <td>0.352734</td>\n",
       "      <td>-0.379670</td>\n",
       "      <td>0.625505</td>\n",
       "      <td>0.582764</td>\n",
       "      <td>0.289946</td>\n",
       "      <td>-0.385064</td>\n",
       "      <td>0.455621</td>\n",
       "      <td>-0.388305</td>\n",
       "    </tr>\n",
       "    <tr>\n",
       "      <th>ZN</th>\n",
       "      <td>-0.200469</td>\n",
       "      <td>1.000000</td>\n",
       "      <td>-0.533828</td>\n",
       "      <td>-0.042697</td>\n",
       "      <td>-0.516604</td>\n",
       "      <td>0.311991</td>\n",
       "      <td>-0.569537</td>\n",
       "      <td>0.664408</td>\n",
       "      <td>-0.311948</td>\n",
       "      <td>-0.314563</td>\n",
       "      <td>-0.391679</td>\n",
       "      <td>0.175520</td>\n",
       "      <td>-0.412995</td>\n",
       "      <td>0.360445</td>\n",
       "    </tr>\n",
       "    <tr>\n",
       "      <th>INDUS</th>\n",
       "      <td>0.406583</td>\n",
       "      <td>-0.533828</td>\n",
       "      <td>1.000000</td>\n",
       "      <td>0.062938</td>\n",
       "      <td>0.763651</td>\n",
       "      <td>-0.391676</td>\n",
       "      <td>0.644779</td>\n",
       "      <td>-0.708027</td>\n",
       "      <td>0.595129</td>\n",
       "      <td>0.720760</td>\n",
       "      <td>0.383248</td>\n",
       "      <td>-0.356977</td>\n",
       "      <td>0.603800</td>\n",
       "      <td>-0.483725</td>\n",
       "    </tr>\n",
       "    <tr>\n",
       "      <th>CHAS</th>\n",
       "      <td>-0.055892</td>\n",
       "      <td>-0.042697</td>\n",
       "      <td>0.062938</td>\n",
       "      <td>1.000000</td>\n",
       "      <td>0.091203</td>\n",
       "      <td>0.091251</td>\n",
       "      <td>0.086518</td>\n",
       "      <td>-0.099176</td>\n",
       "      <td>-0.007368</td>\n",
       "      <td>-0.035587</td>\n",
       "      <td>-0.121515</td>\n",
       "      <td>0.048788</td>\n",
       "      <td>-0.053929</td>\n",
       "      <td>0.175260</td>\n",
       "    </tr>\n",
       "    <tr>\n",
       "      <th>NOX</th>\n",
       "      <td>0.420972</td>\n",
       "      <td>-0.516604</td>\n",
       "      <td>0.763651</td>\n",
       "      <td>0.091203</td>\n",
       "      <td>1.000000</td>\n",
       "      <td>-0.302188</td>\n",
       "      <td>0.731470</td>\n",
       "      <td>-0.769230</td>\n",
       "      <td>0.611441</td>\n",
       "      <td>0.668023</td>\n",
       "      <td>0.188933</td>\n",
       "      <td>-0.380051</td>\n",
       "      <td>0.590879</td>\n",
       "      <td>-0.427321</td>\n",
       "    </tr>\n",
       "    <tr>\n",
       "      <th>RM</th>\n",
       "      <td>-0.219247</td>\n",
       "      <td>0.311991</td>\n",
       "      <td>-0.391676</td>\n",
       "      <td>0.091251</td>\n",
       "      <td>-0.302188</td>\n",
       "      <td>1.000000</td>\n",
       "      <td>-0.240265</td>\n",
       "      <td>0.205246</td>\n",
       "      <td>-0.209847</td>\n",
       "      <td>-0.292048</td>\n",
       "      <td>-0.355501</td>\n",
       "      <td>0.128069</td>\n",
       "      <td>-0.613808</td>\n",
       "      <td>0.695360</td>\n",
       "    </tr>\n",
       "    <tr>\n",
       "      <th>AGE</th>\n",
       "      <td>0.352734</td>\n",
       "      <td>-0.569537</td>\n",
       "      <td>0.644779</td>\n",
       "      <td>0.086518</td>\n",
       "      <td>0.731470</td>\n",
       "      <td>-0.240265</td>\n",
       "      <td>1.000000</td>\n",
       "      <td>-0.747881</td>\n",
       "      <td>0.456022</td>\n",
       "      <td>0.506456</td>\n",
       "      <td>0.261515</td>\n",
       "      <td>-0.273534</td>\n",
       "      <td>0.602339</td>\n",
       "      <td>-0.376955</td>\n",
       "    </tr>\n",
       "    <tr>\n",
       "      <th>DIS</th>\n",
       "      <td>-0.379670</td>\n",
       "      <td>0.664408</td>\n",
       "      <td>-0.708027</td>\n",
       "      <td>-0.099176</td>\n",
       "      <td>-0.769230</td>\n",
       "      <td>0.205246</td>\n",
       "      <td>-0.747881</td>\n",
       "      <td>1.000000</td>\n",
       "      <td>-0.494588</td>\n",
       "      <td>-0.534432</td>\n",
       "      <td>-0.232471</td>\n",
       "      <td>0.291512</td>\n",
       "      <td>-0.496996</td>\n",
       "      <td>0.249929</td>\n",
       "    </tr>\n",
       "    <tr>\n",
       "      <th>RAD</th>\n",
       "      <td>0.625505</td>\n",
       "      <td>-0.311948</td>\n",
       "      <td>0.595129</td>\n",
       "      <td>-0.007368</td>\n",
       "      <td>0.611441</td>\n",
       "      <td>-0.209847</td>\n",
       "      <td>0.456022</td>\n",
       "      <td>-0.494588</td>\n",
       "      <td>1.000000</td>\n",
       "      <td>0.910228</td>\n",
       "      <td>0.464741</td>\n",
       "      <td>-0.444413</td>\n",
       "      <td>0.488676</td>\n",
       "      <td>-0.381626</td>\n",
       "    </tr>\n",
       "    <tr>\n",
       "      <th>TAX</th>\n",
       "      <td>0.582764</td>\n",
       "      <td>-0.314563</td>\n",
       "      <td>0.720760</td>\n",
       "      <td>-0.035587</td>\n",
       "      <td>0.668023</td>\n",
       "      <td>-0.292048</td>\n",
       "      <td>0.506456</td>\n",
       "      <td>-0.534432</td>\n",
       "      <td>0.910228</td>\n",
       "      <td>1.000000</td>\n",
       "      <td>0.460853</td>\n",
       "      <td>-0.441808</td>\n",
       "      <td>0.543993</td>\n",
       "      <td>-0.468536</td>\n",
       "    </tr>\n",
       "    <tr>\n",
       "      <th>PTRATIO</th>\n",
       "      <td>0.289946</td>\n",
       "      <td>-0.391679</td>\n",
       "      <td>0.383248</td>\n",
       "      <td>-0.121515</td>\n",
       "      <td>0.188933</td>\n",
       "      <td>-0.355501</td>\n",
       "      <td>0.261515</td>\n",
       "      <td>-0.232471</td>\n",
       "      <td>0.464741</td>\n",
       "      <td>0.460853</td>\n",
       "      <td>1.000000</td>\n",
       "      <td>-0.177383</td>\n",
       "      <td>0.374044</td>\n",
       "      <td>-0.507787</td>\n",
       "    </tr>\n",
       "    <tr>\n",
       "      <th>B</th>\n",
       "      <td>-0.385064</td>\n",
       "      <td>0.175520</td>\n",
       "      <td>-0.356977</td>\n",
       "      <td>0.048788</td>\n",
       "      <td>-0.380051</td>\n",
       "      <td>0.128069</td>\n",
       "      <td>-0.273534</td>\n",
       "      <td>0.291512</td>\n",
       "      <td>-0.444413</td>\n",
       "      <td>-0.441808</td>\n",
       "      <td>-0.177383</td>\n",
       "      <td>1.000000</td>\n",
       "      <td>-0.366087</td>\n",
       "      <td>0.333461</td>\n",
       "    </tr>\n",
       "    <tr>\n",
       "      <th>LSTAT</th>\n",
       "      <td>0.455621</td>\n",
       "      <td>-0.412995</td>\n",
       "      <td>0.603800</td>\n",
       "      <td>-0.053929</td>\n",
       "      <td>0.590879</td>\n",
       "      <td>-0.613808</td>\n",
       "      <td>0.602339</td>\n",
       "      <td>-0.496996</td>\n",
       "      <td>0.488676</td>\n",
       "      <td>0.543993</td>\n",
       "      <td>0.374044</td>\n",
       "      <td>-0.366087</td>\n",
       "      <td>1.000000</td>\n",
       "      <td>-0.737663</td>\n",
       "    </tr>\n",
       "    <tr>\n",
       "      <th>target</th>\n",
       "      <td>-0.388305</td>\n",
       "      <td>0.360445</td>\n",
       "      <td>-0.483725</td>\n",
       "      <td>0.175260</td>\n",
       "      <td>-0.427321</td>\n",
       "      <td>0.695360</td>\n",
       "      <td>-0.376955</td>\n",
       "      <td>0.249929</td>\n",
       "      <td>-0.381626</td>\n",
       "      <td>-0.468536</td>\n",
       "      <td>-0.507787</td>\n",
       "      <td>0.333461</td>\n",
       "      <td>-0.737663</td>\n",
       "      <td>1.000000</td>\n",
       "    </tr>\n",
       "  </tbody>\n",
       "</table>\n",
       "</div>"
      ],
      "text/plain": [
       "             CRIM        ZN     INDUS  ...         B     LSTAT    target\n",
       "CRIM     1.000000 -0.200469  0.406583  ... -0.385064  0.455621 -0.388305\n",
       "ZN      -0.200469  1.000000 -0.533828  ...  0.175520 -0.412995  0.360445\n",
       "INDUS    0.406583 -0.533828  1.000000  ... -0.356977  0.603800 -0.483725\n",
       "CHAS    -0.055892 -0.042697  0.062938  ...  0.048788 -0.053929  0.175260\n",
       "NOX      0.420972 -0.516604  0.763651  ... -0.380051  0.590879 -0.427321\n",
       "RM      -0.219247  0.311991 -0.391676  ...  0.128069 -0.613808  0.695360\n",
       "AGE      0.352734 -0.569537  0.644779  ... -0.273534  0.602339 -0.376955\n",
       "DIS     -0.379670  0.664408 -0.708027  ...  0.291512 -0.496996  0.249929\n",
       "RAD      0.625505 -0.311948  0.595129  ... -0.444413  0.488676 -0.381626\n",
       "TAX      0.582764 -0.314563  0.720760  ... -0.441808  0.543993 -0.468536\n",
       "PTRATIO  0.289946 -0.391679  0.383248  ... -0.177383  0.374044 -0.507787\n",
       "B       -0.385064  0.175520 -0.356977  ...  1.000000 -0.366087  0.333461\n",
       "LSTAT    0.455621 -0.412995  0.603800  ... -0.366087  1.000000 -0.737663\n",
       "target  -0.388305  0.360445 -0.483725  ...  0.333461 -0.737663  1.000000\n",
       "\n",
       "[14 rows x 14 columns]"
      ]
     },
     "execution_count": 11,
     "metadata": {
      "tags": []
     },
     "output_type": "execute_result"
    }
   ],
   "source": [
    "corr = data.corr()\n",
    "corr"
   ]
  },
  {
   "cell_type": "code",
   "execution_count": 14,
   "metadata": {
    "executionInfo": {
     "elapsed": 1019,
     "status": "ok",
     "timestamp": 1612602207440,
     "user": {
      "displayName": "Pradeepta Mishra",
      "photoUrl": "https://lh3.googleusercontent.com/a-/AOh14Gg5L62HDYcIJigsOgsBvW1ar0qHZqoYX4NwMBxYiq8=s64",
      "userId": "08371374182622470276"
     },
     "user_tz": -330
    },
    "id": "XKIJAkLtlEVJ"
   },
   "outputs": [],
   "source": [
    "XTrain = data_train.iloc[:,0:(data.shape[1]-1)]\n",
    "YTrain = data_train['target']"
   ]
  },
  {
   "cell_type": "code",
   "execution_count": 15,
   "metadata": {
    "executionInfo": {
     "elapsed": 1067,
     "status": "ok",
     "timestamp": 1612602214806,
     "user": {
      "displayName": "Pradeepta Mishra",
      "photoUrl": "https://lh3.googleusercontent.com/a-/AOh14Gg5L62HDYcIJigsOgsBvW1ar0qHZqoYX4NwMBxYiq8=s64",
      "userId": "08371374182622470276"
     },
     "user_tz": -330
    },
    "id": "Y2jQimc1lEVJ"
   },
   "outputs": [],
   "source": [
    "XTest = data_test.iloc[:,0:(data.shape[1]-1)]\n",
    "YTest = data_test['target']"
   ]
  },
  {
   "cell_type": "code",
   "execution_count": 16,
   "metadata": {
    "colab": {
     "base_uri": "https://localhost:8080/"
    },
    "executionInfo": {
     "elapsed": 1057,
     "status": "ok",
     "timestamp": 1612602234685,
     "user": {
      "displayName": "Pradeepta Mishra",
      "photoUrl": "https://lh3.googleusercontent.com/a-/AOh14Gg5L62HDYcIJigsOgsBvW1ar0qHZqoYX4NwMBxYiq8=s64",
      "userId": "08371374182622470276"
     },
     "user_tz": -330
    },
    "id": "naKy1ROelEVJ",
    "outputId": "4d0f642f-fa2a-46b1-e2e2-db97a840107a"
   },
   "outputs": [
    {
     "data": {
      "text/plain": [
       "((354, 13), (152, 13))"
      ]
     },
     "execution_count": 16,
     "metadata": {
      "tags": []
     },
     "output_type": "execute_result"
    }
   ],
   "source": [
    "XTrain.shape, XTest.shape"
   ]
  },
  {
   "cell_type": "code",
   "execution_count": 17,
   "metadata": {
    "colab": {
     "base_uri": "https://localhost:8080/"
    },
    "executionInfo": {
     "elapsed": 716,
     "status": "ok",
     "timestamp": 1612602235086,
     "user": {
      "displayName": "Pradeepta Mishra",
      "photoUrl": "https://lh3.googleusercontent.com/a-/AOh14Gg5L62HDYcIJigsOgsBvW1ar0qHZqoYX4NwMBxYiq8=s64",
      "userId": "08371374182622470276"
     },
     "user_tz": -330
    },
    "id": "5lX_u8qslEVK",
    "outputId": "2b70f843-0c7f-4911-9291-44c37b4dd4a2"
   },
   "outputs": [
    {
     "data": {
      "text/plain": [
       "LinearRegression(copy_X=True, fit_intercept=True, n_jobs=None, normalize=True)"
      ]
     },
     "execution_count": 17,
     "metadata": {
      "tags": []
     },
     "output_type": "execute_result"
    }
   ],
   "source": [
    "#multiple linear regression model\n",
    "reg = linear_model.LinearRegression(normalize=True)\n",
    "reg"
   ]
  },
  {
   "cell_type": "code",
   "execution_count": 18,
   "metadata": {
    "colab": {
     "base_uri": "https://localhost:8080/"
    },
    "executionInfo": {
     "elapsed": 792,
     "status": "ok",
     "timestamp": 1612602236878,
     "user": {
      "displayName": "Pradeepta Mishra",
      "photoUrl": "https://lh3.googleusercontent.com/a-/AOh14Gg5L62HDYcIJigsOgsBvW1ar0qHZqoYX4NwMBxYiq8=s64",
      "userId": "08371374182622470276"
     },
     "user_tz": -330
    },
    "id": "nk0Ovk5FlEVK",
    "outputId": "48f3ab33-27b7-44ad-f390-8236b0037fe1"
   },
   "outputs": [
    {
     "data": {
      "text/plain": [
       "LinearRegression(copy_X=True, fit_intercept=True, n_jobs=None, normalize=True)"
      ]
     },
     "execution_count": 18,
     "metadata": {
      "tags": []
     },
     "output_type": "execute_result"
    }
   ],
   "source": [
    "reg.fit(XTrain,YTrain)"
   ]
  },
  {
   "cell_type": "code",
   "execution_count": 19,
   "metadata": {
    "colab": {
     "base_uri": "https://localhost:8080/"
    },
    "executionInfo": {
     "elapsed": 658,
     "status": "ok",
     "timestamp": 1612602237462,
     "user": {
      "displayName": "Pradeepta Mishra",
      "photoUrl": "https://lh3.googleusercontent.com/a-/AOh14Gg5L62HDYcIJigsOgsBvW1ar0qHZqoYX4NwMBxYiq8=s64",
      "userId": "08371374182622470276"
     },
     "user_tz": -330
    },
    "id": "hSfH5V4LlEVK",
    "outputId": "81d1bd97-ceae-4aef-89b2-c8d41a8a6316"
   },
   "outputs": [
    {
     "name": "stdout",
     "output_type": "stream",
     "text": [
      "Coefficients: \n",
      " [ -0.1   0.1   0.1   2.5 -19.5   3.1   0.   -1.3   0.3  -0.   -1.    0.\n",
      "  -0.6]\n"
     ]
    }
   ],
   "source": [
    "print('Coefficients: \\n', np.round(reg.coef_,1))"
   ]
  },
  {
   "cell_type": "code",
   "execution_count": 20,
   "metadata": {
    "colab": {
     "base_uri": "https://localhost:8080/"
    },
    "executionInfo": {
     "elapsed": 883,
     "status": "ok",
     "timestamp": 1612602238437,
     "user": {
      "displayName": "Pradeepta Mishra",
      "photoUrl": "https://lh3.googleusercontent.com/a-/AOh14Gg5L62HDYcIJigsOgsBvW1ar0qHZqoYX4NwMBxYiq8=s64",
      "userId": "08371374182622470276"
     },
     "user_tz": -330
    },
    "id": "6FQVERgalEVL",
    "outputId": "cad7cddc-5009-4a5d-da67-ee8e0e5ed100"
   },
   "outputs": [
    {
     "data": {
      "text/plain": [
       "0.7304342787291502"
      ]
     },
     "execution_count": 20,
     "metadata": {
      "tags": []
     },
     "output_type": "execute_result"
    }
   ],
   "source": [
    "reg.score(XTrain,YTrain)"
   ]
  },
  {
   "cell_type": "code",
   "execution_count": 21,
   "metadata": {
    "colab": {
     "base_uri": "https://localhost:8080/"
    },
    "executionInfo": {
     "elapsed": 811,
     "status": "ok",
     "timestamp": 1612602238963,
     "user": {
      "displayName": "Pradeepta Mishra",
      "photoUrl": "https://lh3.googleusercontent.com/a-/AOh14Gg5L62HDYcIJigsOgsBvW1ar0qHZqoYX4NwMBxYiq8=s64",
      "userId": "08371374182622470276"
     },
     "user_tz": -330
    },
    "id": "DI6UmEovlEVL",
    "outputId": "bebe81c9-45b9-4b47-c5d6-eb20be0c2b69"
   },
   "outputs": [
    {
     "data": {
      "text/plain": [
       "0.7453812732148353"
      ]
     },
     "execution_count": 21,
     "metadata": {
      "tags": []
     },
     "output_type": "execute_result"
    }
   ],
   "source": [
    "reg.score(XTest,YTest)"
   ]
  },
  {
   "cell_type": "code",
   "execution_count": 22,
   "metadata": {
    "executionInfo": {
     "elapsed": 658,
     "status": "ok",
     "timestamp": 1612602239473,
     "user": {
      "displayName": "Pradeepta Mishra",
      "photoUrl": "https://lh3.googleusercontent.com/a-/AOh14Gg5L62HDYcIJigsOgsBvW1ar0qHZqoYX4NwMBxYiq8=s64",
      "userId": "08371374182622470276"
     },
     "user_tz": -330
    },
    "id": "b65EdE4XlEVL"
   },
   "outputs": [],
   "source": [
    "from scipy import stats"
   ]
  },
  {
   "cell_type": "code",
   "execution_count": 23,
   "metadata": {
    "executionInfo": {
     "elapsed": 1079,
     "status": "ok",
     "timestamp": 1612602241061,
     "user": {
      "displayName": "Pradeepta Mishra",
      "photoUrl": "https://lh3.googleusercontent.com/a-/AOh14Gg5L62HDYcIJigsOgsBvW1ar0qHZqoYX4NwMBxYiq8=s64",
      "userId": "08371374182622470276"
     },
     "user_tz": -330
    },
    "id": "jfdNsWRAlEVL"
   },
   "outputs": [],
   "source": [
    "#adjusted R square\n",
    "def AdjustedRSquare(model,X,Y):\n",
    "    YHat = model.predict(X)\n",
    "    n,k = X.shape\n",
    "    sse = np.sum(np.square(YHat-Y),axis=0)\n",
    "    sst = np.sum(np.square(Y-np.mean(Y)),axis=0)\n",
    "    R2 = 1- sse/sst\n",
    "    adjR2 = R2-(1-R2)*(float(k)/(n-k-1))\n",
    "    return adjR2, R2"
   ]
  },
  {
   "cell_type": "code",
   "execution_count": 24,
   "metadata": {
    "executionInfo": {
     "elapsed": 831,
     "status": "ok",
     "timestamp": 1612602241641,
     "user": {
      "displayName": "Pradeepta Mishra",
      "photoUrl": "https://lh3.googleusercontent.com/a-/AOh14Gg5L62HDYcIJigsOgsBvW1ar0qHZqoYX4NwMBxYiq8=s64",
      "userId": "08371374182622470276"
     },
     "user_tz": -330
    },
    "id": "Bwp1eRfxlEVM"
   },
   "outputs": [],
   "source": [
    "def ReturnPValue(model,X,Y):\n",
    "    YHat = model.predict(X)\n",
    "    n,k = X.shape\n",
    "    sse = np.sum(np.square(YHat-Y),axis=0)\n",
    "    x = np.hstack((np.ones((n,1)),np.matrix(X)))\n",
    "    df = float(n-k-1)\n",
    "    sampleVar = sse/df\n",
    "    sampleVarianceX = x.T*x\n",
    "    covarianceMatrix = linalg.sqrtm(sampleVar*sampleVarianceX.I)\n",
    "    se = covarianceMatrix.diagonal()[1:]\n",
    "    betasTstat = np.zeros(len(se))\n",
    "    for i in range(len(se)):\n",
    "        betasTstat[i] = model.coef_[i]/se[i]\n",
    "    betasPvalue = 1- stats.t.cdf(abs(betasTstat),df)\n",
    "    return betasPvalue"
   ]
  },
  {
   "cell_type": "code",
   "execution_count": 25,
   "metadata": {
    "colab": {
     "base_uri": "https://localhost:8080/"
    },
    "executionInfo": {
     "elapsed": 1173,
     "status": "ok",
     "timestamp": 1612602243035,
     "user": {
      "displayName": "Pradeepta Mishra",
      "photoUrl": "https://lh3.googleusercontent.com/a-/AOh14Gg5L62HDYcIJigsOgsBvW1ar0qHZqoYX4NwMBxYiq8=s64",
      "userId": "08371374182622470276"
     },
     "user_tz": -330
    },
    "id": "nYKrZ5JxlEVM",
    "outputId": "a7ce9575-349d-4d66-e614-090a49a840e4"
   },
   "outputs": [
    {
     "data": {
      "text/plain": [
       "array([0.02, 0.  , 0.14, 0.01, 0.  , 0.  , 0.01, 0.  , 0.  , 0.  , 0.  ,\n",
       "       0.  , 0.  ])"
      ]
     },
     "execution_count": 25,
     "metadata": {
      "tags": []
     },
     "output_type": "execute_result"
    }
   ],
   "source": [
    "np.round(ReturnPValue(reg,XTrain,YTrain),2)"
   ]
  },
  {
   "cell_type": "code",
   "execution_count": 26,
   "metadata": {
    "colab": {
     "base_uri": "https://localhost:8080/"
    },
    "executionInfo": {
     "elapsed": 654,
     "status": "ok",
     "timestamp": 1612602243544,
     "user": {
      "displayName": "Pradeepta Mishra",
      "photoUrl": "https://lh3.googleusercontent.com/a-/AOh14Gg5L62HDYcIJigsOgsBvW1ar0qHZqoYX4NwMBxYiq8=s64",
      "userId": "08371374182622470276"
     },
     "user_tz": -330
    },
    "id": "YctV0nBFlEVM",
    "outputId": "41f951f4-d416-401e-d8de-5548d9ddfa1b"
   },
   "outputs": [
    {
     "name": "stdout",
     "output_type": "stream",
     "text": [
      "0.7201273540923236 0.7304342787291502\n"
     ]
    }
   ],
   "source": [
    "reg.adjR2, reg.R2 = AdjustedRSquare(reg,XTrain,YTrain)\n",
    "print (reg.adjR2, reg.R2)"
   ]
  },
  {
   "cell_type": "code",
   "execution_count": 27,
   "metadata": {
    "executionInfo": {
     "elapsed": 699,
     "status": "ok",
     "timestamp": 1612602245280,
     "user": {
      "displayName": "Pradeepta Mishra",
      "photoUrl": "https://lh3.googleusercontent.com/a-/AOh14Gg5L62HDYcIJigsOgsBvW1ar0qHZqoYX4NwMBxYiq8=s64",
      "userId": "08371374182622470276"
     },
     "user_tz": -330
    },
    "id": "YfBNyeFulEVM"
   },
   "outputs": [],
   "source": [
    "def ErrorMetric(model,X,Y):\n",
    "    Yhat = model.predict(X)\n",
    "    MAPE = np.mean(abs(Y-Yhat)/Y)*100\n",
    "    MSSE = np.mean(np.square(Y-Yhat))\n",
    "    return MAPE, MSSE"
   ]
  },
  {
   "cell_type": "code",
   "execution_count": 28,
   "metadata": {
    "colab": {
     "base_uri": "https://localhost:8080/"
    },
    "executionInfo": {
     "elapsed": 699,
     "status": "ok",
     "timestamp": 1612602246547,
     "user": {
      "displayName": "Pradeepta Mishra",
      "photoUrl": "https://lh3.googleusercontent.com/a-/AOh14Gg5L62HDYcIJigsOgsBvW1ar0qHZqoYX4NwMBxYiq8=s64",
      "userId": "08371374182622470276"
     },
     "user_tz": -330
    },
    "id": "RqxdcD6MlEVN",
    "outputId": "6f34fe7a-ef7c-443d-c397-79d163a39abf"
   },
   "outputs": [
    {
     "data": {
      "text/plain": [
       "(16.45621290395976, 22.789606639490117)"
      ]
     },
     "execution_count": 28,
     "metadata": {
      "tags": []
     },
     "output_type": "execute_result"
    }
   ],
   "source": [
    "ErrorMetric(reg,XTrain,YTrain)"
   ]
  },
  {
   "cell_type": "code",
   "execution_count": 29,
   "metadata": {
    "colab": {
     "base_uri": "https://localhost:8080/"
    },
    "executionInfo": {
     "elapsed": 846,
     "status": "ok",
     "timestamp": 1612602247681,
     "user": {
      "displayName": "Pradeepta Mishra",
      "photoUrl": "https://lh3.googleusercontent.com/a-/AOh14Gg5L62HDYcIJigsOgsBvW1ar0qHZqoYX4NwMBxYiq8=s64",
      "userId": "08371374182622470276"
     },
     "user_tz": -330
    },
    "id": "We-EeXjwlEVN",
    "outputId": "88b7af58-40cc-46f2-971b-9f5b12d48f6a"
   },
   "outputs": [
    {
     "data": {
      "text/plain": [
       "(17.698843414792957, 21.327407207278622)"
      ]
     },
     "execution_count": 29,
     "metadata": {
      "tags": []
     },
     "output_type": "execute_result"
    }
   ],
   "source": [
    "ErrorMetric(reg,XTest,YTest)"
   ]
  },
  {
   "cell_type": "code",
   "execution_count": 30,
   "metadata": {
    "executionInfo": {
     "elapsed": 702,
     "status": "ok",
     "timestamp": 1612602248297,
     "user": {
      "displayName": "Pradeepta Mishra",
      "photoUrl": "https://lh3.googleusercontent.com/a-/AOh14Gg5L62HDYcIJigsOgsBvW1ar0qHZqoYX4NwMBxYiq8=s64",
      "userId": "08371374182622470276"
     },
     "user_tz": -330
    },
    "id": "jiej1AbTlEVN"
   },
   "outputs": [],
   "source": [
    "alpha = 0.05\n",
    "erroR = 1"
   ]
  },
  {
   "cell_type": "code",
   "execution_count": 31,
   "metadata": {
    "executionInfo": {
     "elapsed": 964,
     "status": "ok",
     "timestamp": 1612602249384,
     "user": {
      "displayName": "Pradeepta Mishra",
      "photoUrl": "https://lh3.googleusercontent.com/a-/AOh14Gg5L62HDYcIJigsOgsBvW1ar0qHZqoYX4NwMBxYiq8=s64",
      "userId": "08371374182622470276"
     },
     "user_tz": -330
    },
    "id": "3U-KshsJlEVN"
   },
   "outputs": [],
   "source": [
    "reg.BetasPValue = ReturnPValue(reg,XTrain,YTrain)"
   ]
  },
  {
   "cell_type": "code",
   "execution_count": 32,
   "metadata": {
    "colab": {
     "base_uri": "https://localhost:8080/"
    },
    "executionInfo": {
     "elapsed": 1081,
     "status": "ok",
     "timestamp": 1612602250458,
     "user": {
      "displayName": "Pradeepta Mishra",
      "photoUrl": "https://lh3.googleusercontent.com/a-/AOh14Gg5L62HDYcIJigsOgsBvW1ar0qHZqoYX4NwMBxYiq8=s64",
      "userId": "08371374182622470276"
     },
     "user_tz": -330
    },
    "id": "UaZo0oYMlEVO",
    "outputId": "b85599bb-9a03-4712-b798-82b75459e0e2"
   },
   "outputs": [
    {
     "data": {
      "text/plain": [
       "(17.698843414792957, 21.327407207278622)"
      ]
     },
     "execution_count": 32,
     "metadata": {
      "tags": []
     },
     "output_type": "execute_result"
    }
   ],
   "source": [
    "MAPE, prevMSSE = ErrorMetric(reg,XTest,YTest)\n",
    "MAPE, prevMSSE"
   ]
  },
  {
   "cell_type": "code",
   "execution_count": 35,
   "metadata": {
    "colab": {
     "base_uri": "https://localhost:8080/",
     "height": 460
    },
    "executionInfo": {
     "elapsed": 1031,
     "status": "error",
     "timestamp": 1612602285111,
     "user": {
      "displayName": "Pradeepta Mishra",
      "photoUrl": "https://lh3.googleusercontent.com/a-/AOh14Gg5L62HDYcIJigsOgsBvW1ar0qHZqoYX4NwMBxYiq8=s64",
      "userId": "08371374182622470276"
     },
     "user_tz": -330
    },
    "id": "upaEsWlGlEVO",
    "outputId": "5d220722-5306-4edf-839a-38089f35745f"
   },
   "outputs": [
    {
     "ename": "ValueError",
     "evalue": "ignored",
     "output_type": "error",
     "traceback": [
      "\u001b[0;31m---------------------------------------------------------------------------\u001b[0m",
      "\u001b[0;31mValueError\u001b[0m                                Traceback (most recent call last)",
      "\u001b[0;32m/usr/local/lib/python3.6/dist-packages/pandas/core/internals/managers.py\u001b[0m in \u001b[0;36mcreate_block_manager_from_blocks\u001b[0;34m(blocks, axes)\u001b[0m\n\u001b[1;32m   1670\u001b[0m                 blocks = [\n\u001b[0;32m-> 1671\u001b[0;31m                     \u001b[0mmake_block\u001b[0m\u001b[0;34m(\u001b[0m\u001b[0mvalues\u001b[0m\u001b[0;34m=\u001b[0m\u001b[0mblocks\u001b[0m\u001b[0;34m[\u001b[0m\u001b[0;36m0\u001b[0m\u001b[0;34m]\u001b[0m\u001b[0;34m,\u001b[0m \u001b[0mplacement\u001b[0m\u001b[0;34m=\u001b[0m\u001b[0mslice\u001b[0m\u001b[0;34m(\u001b[0m\u001b[0;36m0\u001b[0m\u001b[0;34m,\u001b[0m \u001b[0mlen\u001b[0m\u001b[0;34m(\u001b[0m\u001b[0maxes\u001b[0m\u001b[0;34m[\u001b[0m\u001b[0;36m0\u001b[0m\u001b[0;34m]\u001b[0m\u001b[0;34m)\u001b[0m\u001b[0;34m)\u001b[0m\u001b[0;34m)\u001b[0m\u001b[0;34m\u001b[0m\u001b[0;34m\u001b[0m\u001b[0m\n\u001b[0m\u001b[1;32m   1672\u001b[0m                 ]\n",
      "\u001b[0;32m/usr/local/lib/python3.6/dist-packages/pandas/core/internals/blocks.py\u001b[0m in \u001b[0;36mmake_block\u001b[0;34m(values, placement, klass, ndim, dtype)\u001b[0m\n\u001b[1;32m   2743\u001b[0m \u001b[0;34m\u001b[0m\u001b[0m\n\u001b[0;32m-> 2744\u001b[0;31m     \u001b[0;32mreturn\u001b[0m \u001b[0mklass\u001b[0m\u001b[0;34m(\u001b[0m\u001b[0mvalues\u001b[0m\u001b[0;34m,\u001b[0m \u001b[0mndim\u001b[0m\u001b[0;34m=\u001b[0m\u001b[0mndim\u001b[0m\u001b[0;34m,\u001b[0m \u001b[0mplacement\u001b[0m\u001b[0;34m=\u001b[0m\u001b[0mplacement\u001b[0m\u001b[0;34m)\u001b[0m\u001b[0;34m\u001b[0m\u001b[0;34m\u001b[0m\u001b[0m\n\u001b[0m\u001b[1;32m   2745\u001b[0m \u001b[0;34m\u001b[0m\u001b[0m\n",
      "\u001b[0;32m/usr/local/lib/python3.6/dist-packages/pandas/core/internals/blocks.py\u001b[0m in \u001b[0;36m__init__\u001b[0;34m(self, values, placement, ndim)\u001b[0m\n\u001b[1;32m    130\u001b[0m             raise ValueError(\n\u001b[0;32m--> 131\u001b[0;31m                 \u001b[0;34mf\"Wrong number of items passed {len(self.values)}, \"\u001b[0m\u001b[0;34m\u001b[0m\u001b[0;34m\u001b[0m\u001b[0m\n\u001b[0m\u001b[1;32m    132\u001b[0m                 \u001b[0;34mf\"placement implies {len(self.mgr_locs)}\"\u001b[0m\u001b[0;34m\u001b[0m\u001b[0;34m\u001b[0m\u001b[0m\n",
      "\u001b[0;31mValueError\u001b[0m: Wrong number of items passed 12, placement implies 13",
      "\nDuring handling of the above exception, another exception occurred:\n",
      "\u001b[0;31mValueError\u001b[0m                                Traceback (most recent call last)",
      "\u001b[0;32m<ipython-input-35-ba53449262c3>\u001b[0m in \u001b[0;36m<module>\u001b[0;34m()\u001b[0m\n\u001b[1;32m      4\u001b[0m         \u001b[0mind\u001b[0m \u001b[0;34m=\u001b[0m \u001b[0mnp\u001b[0m\u001b[0;34m.\u001b[0m\u001b[0margmax\u001b[0m\u001b[0;34m(\u001b[0m\u001b[0mreg\u001b[0m\u001b[0;34m.\u001b[0m\u001b[0mBetasPValue\u001b[0m\u001b[0;34m)\u001b[0m\u001b[0;34m\u001b[0m\u001b[0;34m\u001b[0m\u001b[0m\n\u001b[1;32m      5\u001b[0m \u001b[0;34m\u001b[0m\u001b[0m\n\u001b[0;32m----> 6\u001b[0;31m     \u001b[0mXTrain\u001b[0m \u001b[0;34m=\u001b[0m \u001b[0mnp\u001b[0m\u001b[0;34m.\u001b[0m\u001b[0mdelete\u001b[0m\u001b[0;34m(\u001b[0m\u001b[0mXTrain\u001b[0m\u001b[0;34m,\u001b[0m\u001b[0mind\u001b[0m\u001b[0;34m,\u001b[0m\u001b[0maxis\u001b[0m\u001b[0;34m=\u001b[0m\u001b[0;36m1\u001b[0m\u001b[0;34m)\u001b[0m\u001b[0;34m\u001b[0m\u001b[0;34m\u001b[0m\u001b[0m\n\u001b[0m\u001b[1;32m      7\u001b[0m     \u001b[0mXTest\u001b[0m \u001b[0;34m=\u001b[0m \u001b[0mnp\u001b[0m\u001b[0;34m.\u001b[0m\u001b[0mdelete\u001b[0m\u001b[0;34m(\u001b[0m\u001b[0mXTest\u001b[0m\u001b[0;34m,\u001b[0m\u001b[0mind\u001b[0m\u001b[0;34m,\u001b[0m\u001b[0maxis\u001b[0m\u001b[0;34m=\u001b[0m\u001b[0;36m1\u001b[0m\u001b[0;34m)\u001b[0m\u001b[0;34m\u001b[0m\u001b[0;34m\u001b[0m\u001b[0m\n\u001b[1;32m      8\u001b[0m \u001b[0;34m\u001b[0m\u001b[0m\n",
      "\u001b[0;32m<__array_function__ internals>\u001b[0m in \u001b[0;36mdelete\u001b[0;34m(*args, **kwargs)\u001b[0m\n",
      "\u001b[0;32m/usr/local/lib/python3.6/dist-packages/numpy/lib/function_base.py\u001b[0m in \u001b[0;36mdelete\u001b[0;34m(arr, obj, axis)\u001b[0m\n\u001b[1;32m   4410\u001b[0m \u001b[0;34m\u001b[0m\u001b[0m\n\u001b[1;32m   4411\u001b[0m     \u001b[0;32mif\u001b[0m \u001b[0mwrap\u001b[0m\u001b[0;34m:\u001b[0m\u001b[0;34m\u001b[0m\u001b[0;34m\u001b[0m\u001b[0m\n\u001b[0;32m-> 4412\u001b[0;31m         \u001b[0;32mreturn\u001b[0m \u001b[0mwrap\u001b[0m\u001b[0;34m(\u001b[0m\u001b[0mnew\u001b[0m\u001b[0;34m)\u001b[0m\u001b[0;34m\u001b[0m\u001b[0;34m\u001b[0m\u001b[0m\n\u001b[0m\u001b[1;32m   4413\u001b[0m     \u001b[0;32melse\u001b[0m\u001b[0;34m:\u001b[0m\u001b[0;34m\u001b[0m\u001b[0;34m\u001b[0m\u001b[0m\n\u001b[1;32m   4414\u001b[0m         \u001b[0;32mreturn\u001b[0m \u001b[0mnew\u001b[0m\u001b[0;34m\u001b[0m\u001b[0;34m\u001b[0m\u001b[0m\n",
      "\u001b[0;32m/usr/local/lib/python3.6/dist-packages/pandas/core/generic.py\u001b[0m in \u001b[0;36m__array_wrap__\u001b[0;34m(self, result, context)\u001b[0m\n\u001b[1;32m   1788\u001b[0m             \u001b[0;32mreturn\u001b[0m \u001b[0mresult\u001b[0m\u001b[0;34m\u001b[0m\u001b[0;34m\u001b[0m\u001b[0m\n\u001b[1;32m   1789\u001b[0m         \u001b[0md\u001b[0m \u001b[0;34m=\u001b[0m \u001b[0mself\u001b[0m\u001b[0;34m.\u001b[0m\u001b[0m_construct_axes_dict\u001b[0m\u001b[0;34m(\u001b[0m\u001b[0mself\u001b[0m\u001b[0;34m.\u001b[0m\u001b[0m_AXIS_ORDERS\u001b[0m\u001b[0;34m,\u001b[0m \u001b[0mcopy\u001b[0m\u001b[0;34m=\u001b[0m\u001b[0;32mFalse\u001b[0m\u001b[0;34m)\u001b[0m\u001b[0;34m\u001b[0m\u001b[0;34m\u001b[0m\u001b[0m\n\u001b[0;32m-> 1790\u001b[0;31m         return self._constructor(result, **d).__finalize__(\n\u001b[0m\u001b[1;32m   1791\u001b[0m             \u001b[0mself\u001b[0m\u001b[0;34m,\u001b[0m \u001b[0mmethod\u001b[0m\u001b[0;34m=\u001b[0m\u001b[0;34m\"__array_wrap__\"\u001b[0m\u001b[0;34m\u001b[0m\u001b[0;34m\u001b[0m\u001b[0m\n\u001b[1;32m   1792\u001b[0m         )\n",
      "\u001b[0;32m/usr/local/lib/python3.6/dist-packages/pandas/core/frame.py\u001b[0m in \u001b[0;36m__init__\u001b[0;34m(self, data, index, columns, dtype, copy)\u001b[0m\n\u001b[1;32m    495\u001b[0m                 \u001b[0mmgr\u001b[0m \u001b[0;34m=\u001b[0m \u001b[0minit_dict\u001b[0m\u001b[0;34m(\u001b[0m\u001b[0;34m{\u001b[0m\u001b[0mdata\u001b[0m\u001b[0;34m.\u001b[0m\u001b[0mname\u001b[0m\u001b[0;34m:\u001b[0m \u001b[0mdata\u001b[0m\u001b[0;34m}\u001b[0m\u001b[0;34m,\u001b[0m \u001b[0mindex\u001b[0m\u001b[0;34m,\u001b[0m \u001b[0mcolumns\u001b[0m\u001b[0;34m,\u001b[0m \u001b[0mdtype\u001b[0m\u001b[0;34m=\u001b[0m\u001b[0mdtype\u001b[0m\u001b[0;34m)\u001b[0m\u001b[0;34m\u001b[0m\u001b[0;34m\u001b[0m\u001b[0m\n\u001b[1;32m    496\u001b[0m             \u001b[0;32melse\u001b[0m\u001b[0;34m:\u001b[0m\u001b[0;34m\u001b[0m\u001b[0;34m\u001b[0m\u001b[0m\n\u001b[0;32m--> 497\u001b[0;31m                 \u001b[0mmgr\u001b[0m \u001b[0;34m=\u001b[0m \u001b[0minit_ndarray\u001b[0m\u001b[0;34m(\u001b[0m\u001b[0mdata\u001b[0m\u001b[0;34m,\u001b[0m \u001b[0mindex\u001b[0m\u001b[0;34m,\u001b[0m \u001b[0mcolumns\u001b[0m\u001b[0;34m,\u001b[0m \u001b[0mdtype\u001b[0m\u001b[0;34m=\u001b[0m\u001b[0mdtype\u001b[0m\u001b[0;34m,\u001b[0m \u001b[0mcopy\u001b[0m\u001b[0;34m=\u001b[0m\u001b[0mcopy\u001b[0m\u001b[0;34m)\u001b[0m\u001b[0;34m\u001b[0m\u001b[0;34m\u001b[0m\u001b[0m\n\u001b[0m\u001b[1;32m    498\u001b[0m \u001b[0;34m\u001b[0m\u001b[0m\n\u001b[1;32m    499\u001b[0m         \u001b[0;31m# For data is list-like, or Iterable (will consume into list)\u001b[0m\u001b[0;34m\u001b[0m\u001b[0;34m\u001b[0m\u001b[0;34m\u001b[0m\u001b[0m\n",
      "\u001b[0;32m/usr/local/lib/python3.6/dist-packages/pandas/core/internals/construction.py\u001b[0m in \u001b[0;36minit_ndarray\u001b[0;34m(values, index, columns, dtype, copy)\u001b[0m\n\u001b[1;32m    232\u001b[0m         \u001b[0mblock_values\u001b[0m \u001b[0;34m=\u001b[0m \u001b[0;34m[\u001b[0m\u001b[0mvalues\u001b[0m\u001b[0;34m]\u001b[0m\u001b[0;34m\u001b[0m\u001b[0;34m\u001b[0m\u001b[0m\n\u001b[1;32m    233\u001b[0m \u001b[0;34m\u001b[0m\u001b[0m\n\u001b[0;32m--> 234\u001b[0;31m     \u001b[0;32mreturn\u001b[0m \u001b[0mcreate_block_manager_from_blocks\u001b[0m\u001b[0;34m(\u001b[0m\u001b[0mblock_values\u001b[0m\u001b[0;34m,\u001b[0m \u001b[0;34m[\u001b[0m\u001b[0mcolumns\u001b[0m\u001b[0;34m,\u001b[0m \u001b[0mindex\u001b[0m\u001b[0;34m]\u001b[0m\u001b[0;34m)\u001b[0m\u001b[0;34m\u001b[0m\u001b[0;34m\u001b[0m\u001b[0m\n\u001b[0m\u001b[1;32m    235\u001b[0m \u001b[0;34m\u001b[0m\u001b[0m\n\u001b[1;32m    236\u001b[0m \u001b[0;34m\u001b[0m\u001b[0m\n",
      "\u001b[0;32m/usr/local/lib/python3.6/dist-packages/pandas/core/internals/managers.py\u001b[0m in \u001b[0;36mcreate_block_manager_from_blocks\u001b[0;34m(blocks, axes)\u001b[0m\n\u001b[1;32m   1679\u001b[0m         \u001b[0mblocks\u001b[0m \u001b[0;34m=\u001b[0m \u001b[0;34m[\u001b[0m\u001b[0mgetattr\u001b[0m\u001b[0;34m(\u001b[0m\u001b[0mb\u001b[0m\u001b[0;34m,\u001b[0m \u001b[0;34m\"values\"\u001b[0m\u001b[0;34m,\u001b[0m \u001b[0mb\u001b[0m\u001b[0;34m)\u001b[0m \u001b[0;32mfor\u001b[0m \u001b[0mb\u001b[0m \u001b[0;32min\u001b[0m \u001b[0mblocks\u001b[0m\u001b[0;34m]\u001b[0m\u001b[0;34m\u001b[0m\u001b[0;34m\u001b[0m\u001b[0m\n\u001b[1;32m   1680\u001b[0m         \u001b[0mtot_items\u001b[0m \u001b[0;34m=\u001b[0m \u001b[0msum\u001b[0m\u001b[0;34m(\u001b[0m\u001b[0mb\u001b[0m\u001b[0;34m.\u001b[0m\u001b[0mshape\u001b[0m\u001b[0;34m[\u001b[0m\u001b[0;36m0\u001b[0m\u001b[0;34m]\u001b[0m \u001b[0;32mfor\u001b[0m \u001b[0mb\u001b[0m \u001b[0;32min\u001b[0m \u001b[0mblocks\u001b[0m\u001b[0;34m)\u001b[0m\u001b[0;34m\u001b[0m\u001b[0;34m\u001b[0m\u001b[0m\n\u001b[0;32m-> 1681\u001b[0;31m         \u001b[0;32mraise\u001b[0m \u001b[0mconstruction_error\u001b[0m\u001b[0;34m(\u001b[0m\u001b[0mtot_items\u001b[0m\u001b[0;34m,\u001b[0m \u001b[0mblocks\u001b[0m\u001b[0;34m[\u001b[0m\u001b[0;36m0\u001b[0m\u001b[0;34m]\u001b[0m\u001b[0;34m.\u001b[0m\u001b[0mshape\u001b[0m\u001b[0;34m[\u001b[0m\u001b[0;36m1\u001b[0m\u001b[0;34m:\u001b[0m\u001b[0;34m]\u001b[0m\u001b[0;34m,\u001b[0m \u001b[0maxes\u001b[0m\u001b[0;34m,\u001b[0m \u001b[0me\u001b[0m\u001b[0;34m)\u001b[0m\u001b[0;34m\u001b[0m\u001b[0;34m\u001b[0m\u001b[0m\n\u001b[0m\u001b[1;32m   1682\u001b[0m \u001b[0;34m\u001b[0m\u001b[0m\n\u001b[1;32m   1683\u001b[0m \u001b[0;34m\u001b[0m\u001b[0m\n",
      "\u001b[0;31mValueError\u001b[0m: Shape of passed values is (354, 12), indices imply (354, 13)"
     ]
    }
   ],
   "source": [
    "while (erroR > 0.001):\n",
    "    ind = np.where(reg.BetasPValue>alpha)[0]\n",
    "    if(len(ind)==0):\n",
    "        ind = np.argmax(reg.BetasPValue)\n",
    "        \n",
    "    XTrain = np.delete(XTrain,ind,axis=1)\n",
    "    XTest = np.delete(XTest,ind,axis=1)\n",
    "    \n",
    "    reg.fit(XTrain,YTrain)\n",
    "    \n",
    "    reg.BetasPValue = ReturnPValue(reg,XTrain, YTrain)\n",
    "    MAPE, MSSE = ErrorMetric(reg,XTest,YTest)\n",
    "\n",
    "    erroR = prevMSSE - MSSE\n",
    "print (erroR, MSSE)"
   ]
  },
  {
   "cell_type": "code",
   "execution_count": 34,
   "metadata": {
    "colab": {
     "base_uri": "https://localhost:8080/"
    },
    "executionInfo": {
     "elapsed": 707,
     "status": "ok",
     "timestamp": 1612602251919,
     "user": {
      "displayName": "Pradeepta Mishra",
      "photoUrl": "https://lh3.googleusercontent.com/a-/AOh14Gg5L62HDYcIJigsOgsBvW1ar0qHZqoYX4NwMBxYiq8=s64",
      "userId": "08371374182622470276"
     },
     "user_tz": -330
    },
    "id": "IH6gibkHlEVO",
    "outputId": "0af80caa-3ef6-4420-ee01-32222e5e48f9"
   },
   "outputs": [
    {
     "data": {
      "text/plain": [
       "array([ -0.1,   0.1,   0.1,   2.5, -19.5,   3.1,   0. ,  -1.3,   0.3,\n",
       "        -0. ,  -1. ,   0. ,  -0.6])"
      ]
     },
     "execution_count": 34,
     "metadata": {
      "tags": []
     },
     "output_type": "execute_result"
    }
   ],
   "source": [
    "np.round(reg.coef_,1)"
   ]
  },
  {
   "cell_type": "code",
   "execution_count": null,
   "metadata": {
    "id": "S5GbilrglEVP",
    "outputId": "fe77c4a5-67ba-4e75-c327-3a4eebef7ef1"
   },
   "outputs": [
    {
     "data": {
      "text/html": [
       "<div>\n",
       "<style scoped>\n",
       "    .dataframe tbody tr th:only-of-type {\n",
       "        vertical-align: middle;\n",
       "    }\n",
       "\n",
       "    .dataframe tbody tr th {\n",
       "        vertical-align: top;\n",
       "    }\n",
       "\n",
       "    .dataframe thead th {\n",
       "        text-align: right;\n",
       "    }\n",
       "</style>\n",
       "<table border=\"1\" class=\"dataframe\">\n",
       "  <thead>\n",
       "    <tr style=\"text-align: right;\">\n",
       "      <th></th>\n",
       "      <th>CRIM</th>\n",
       "      <th>ZN</th>\n",
       "      <th>INDUS</th>\n",
       "      <th>CHAS</th>\n",
       "      <th>NOX</th>\n",
       "      <th>RM</th>\n",
       "      <th>AGE</th>\n",
       "      <th>DIS</th>\n",
       "      <th>RAD</th>\n",
       "      <th>TAX</th>\n",
       "      <th>PTRATIO</th>\n",
       "      <th>B</th>\n",
       "      <th>LSTAT</th>\n",
       "      <th>target</th>\n",
       "    </tr>\n",
       "  </thead>\n",
       "  <tbody>\n",
       "    <tr>\n",
       "      <td>0</td>\n",
       "      <td>0.00632</td>\n",
       "      <td>18.0</td>\n",
       "      <td>2.31</td>\n",
       "      <td>0.0</td>\n",
       "      <td>0.538</td>\n",
       "      <td>6.575</td>\n",
       "      <td>65.2</td>\n",
       "      <td>4.0900</td>\n",
       "      <td>1.0</td>\n",
       "      <td>296.0</td>\n",
       "      <td>15.3</td>\n",
       "      <td>396.90</td>\n",
       "      <td>4.98</td>\n",
       "      <td>24.0</td>\n",
       "    </tr>\n",
       "    <tr>\n",
       "      <td>1</td>\n",
       "      <td>0.02731</td>\n",
       "      <td>0.0</td>\n",
       "      <td>7.07</td>\n",
       "      <td>0.0</td>\n",
       "      <td>0.469</td>\n",
       "      <td>6.421</td>\n",
       "      <td>78.9</td>\n",
       "      <td>4.9671</td>\n",
       "      <td>2.0</td>\n",
       "      <td>242.0</td>\n",
       "      <td>17.8</td>\n",
       "      <td>396.90</td>\n",
       "      <td>9.14</td>\n",
       "      <td>21.6</td>\n",
       "    </tr>\n",
       "    <tr>\n",
       "      <td>2</td>\n",
       "      <td>0.02729</td>\n",
       "      <td>0.0</td>\n",
       "      <td>7.07</td>\n",
       "      <td>0.0</td>\n",
       "      <td>0.469</td>\n",
       "      <td>7.185</td>\n",
       "      <td>61.1</td>\n",
       "      <td>4.9671</td>\n",
       "      <td>2.0</td>\n",
       "      <td>242.0</td>\n",
       "      <td>17.8</td>\n",
       "      <td>392.83</td>\n",
       "      <td>4.03</td>\n",
       "      <td>34.7</td>\n",
       "    </tr>\n",
       "    <tr>\n",
       "      <td>3</td>\n",
       "      <td>0.03237</td>\n",
       "      <td>0.0</td>\n",
       "      <td>2.18</td>\n",
       "      <td>0.0</td>\n",
       "      <td>0.458</td>\n",
       "      <td>6.998</td>\n",
       "      <td>45.8</td>\n",
       "      <td>6.0622</td>\n",
       "      <td>3.0</td>\n",
       "      <td>222.0</td>\n",
       "      <td>18.7</td>\n",
       "      <td>394.63</td>\n",
       "      <td>2.94</td>\n",
       "      <td>33.4</td>\n",
       "    </tr>\n",
       "    <tr>\n",
       "      <td>4</td>\n",
       "      <td>0.06905</td>\n",
       "      <td>0.0</td>\n",
       "      <td>2.18</td>\n",
       "      <td>0.0</td>\n",
       "      <td>0.458</td>\n",
       "      <td>7.147</td>\n",
       "      <td>54.2</td>\n",
       "      <td>6.0622</td>\n",
       "      <td>3.0</td>\n",
       "      <td>222.0</td>\n",
       "      <td>18.7</td>\n",
       "      <td>396.90</td>\n",
       "      <td>5.33</td>\n",
       "      <td>36.2</td>\n",
       "    </tr>\n",
       "  </tbody>\n",
       "</table>\n",
       "</div>"
      ],
      "text/plain": [
       "      CRIM    ZN  INDUS  CHAS    NOX     RM   AGE     DIS  RAD    TAX  \\\n",
       "0  0.00632  18.0   2.31   0.0  0.538  6.575  65.2  4.0900  1.0  296.0   \n",
       "1  0.02731   0.0   7.07   0.0  0.469  6.421  78.9  4.9671  2.0  242.0   \n",
       "2  0.02729   0.0   7.07   0.0  0.469  7.185  61.1  4.9671  2.0  242.0   \n",
       "3  0.03237   0.0   2.18   0.0  0.458  6.998  45.8  6.0622  3.0  222.0   \n",
       "4  0.06905   0.0   2.18   0.0  0.458  7.147  54.2  6.0622  3.0  222.0   \n",
       "\n",
       "   PTRATIO       B  LSTAT  target  \n",
       "0     15.3  396.90   4.98    24.0  \n",
       "1     17.8  396.90   9.14    21.6  \n",
       "2     17.8  392.83   4.03    34.7  \n",
       "3     18.7  394.63   2.94    33.4  \n",
       "4     18.7  396.90   5.33    36.2  "
      ]
     },
     "execution_count": 33,
     "metadata": {
      "tags": []
     },
     "output_type": "execute_result"
    }
   ],
   "source": [
    "data.head()"
   ]
  },
  {
   "cell_type": "code",
   "execution_count": null,
   "metadata": {
    "id": "giczEL39lEVP",
    "outputId": "0267e01c-3986-42d8-eafb-72d6b5b37a56"
   },
   "outputs": [
    {
     "data": {
      "text/plain": [
       "24.0    132\n",
       "5.0     115\n",
       "4.0     110\n",
       "3.0      38\n",
       "6.0      26\n",
       "8.0      24\n",
       "2.0      24\n",
       "1.0      20\n",
       "7.0      17\n",
       "Name: RAD, dtype: int64"
      ]
     },
     "execution_count": 34,
     "metadata": {
      "tags": []
     },
     "output_type": "execute_result"
    }
   ],
   "source": [
    "data.RAD.value_counts()"
   ]
  },
  {
   "cell_type": "code",
   "execution_count": null,
   "metadata": {
    "id": "5b2iONI6lEVP"
   },
   "outputs": [],
   "source": [
    "RAD_Dummies = pd.get_dummies(data.RAD,prefix='RAD',drop_first=True)"
   ]
  },
  {
   "cell_type": "code",
   "execution_count": null,
   "metadata": {
    "id": "BJB6RaWhlEVP",
    "outputId": "ddd8b9f2-92b3-49f7-a9cd-f36e0b1e27a5"
   },
   "outputs": [
    {
     "data": {
      "text/html": [
       "<div>\n",
       "<style scoped>\n",
       "    .dataframe tbody tr th:only-of-type {\n",
       "        vertical-align: middle;\n",
       "    }\n",
       "\n",
       "    .dataframe tbody tr th {\n",
       "        vertical-align: top;\n",
       "    }\n",
       "\n",
       "    .dataframe thead th {\n",
       "        text-align: right;\n",
       "    }\n",
       "</style>\n",
       "<table border=\"1\" class=\"dataframe\">\n",
       "  <thead>\n",
       "    <tr style=\"text-align: right;\">\n",
       "      <th></th>\n",
       "      <th>RAD_2.0</th>\n",
       "      <th>RAD_3.0</th>\n",
       "      <th>RAD_4.0</th>\n",
       "      <th>RAD_5.0</th>\n",
       "      <th>RAD_6.0</th>\n",
       "      <th>RAD_7.0</th>\n",
       "      <th>RAD_8.0</th>\n",
       "      <th>RAD_24.0</th>\n",
       "    </tr>\n",
       "  </thead>\n",
       "  <tbody>\n",
       "    <tr>\n",
       "      <td>0</td>\n",
       "      <td>0</td>\n",
       "      <td>0</td>\n",
       "      <td>0</td>\n",
       "      <td>0</td>\n",
       "      <td>0</td>\n",
       "      <td>0</td>\n",
       "      <td>0</td>\n",
       "      <td>0</td>\n",
       "    </tr>\n",
       "    <tr>\n",
       "      <td>1</td>\n",
       "      <td>1</td>\n",
       "      <td>0</td>\n",
       "      <td>0</td>\n",
       "      <td>0</td>\n",
       "      <td>0</td>\n",
       "      <td>0</td>\n",
       "      <td>0</td>\n",
       "      <td>0</td>\n",
       "    </tr>\n",
       "    <tr>\n",
       "      <td>2</td>\n",
       "      <td>1</td>\n",
       "      <td>0</td>\n",
       "      <td>0</td>\n",
       "      <td>0</td>\n",
       "      <td>0</td>\n",
       "      <td>0</td>\n",
       "      <td>0</td>\n",
       "      <td>0</td>\n",
       "    </tr>\n",
       "    <tr>\n",
       "      <td>3</td>\n",
       "      <td>0</td>\n",
       "      <td>1</td>\n",
       "      <td>0</td>\n",
       "      <td>0</td>\n",
       "      <td>0</td>\n",
       "      <td>0</td>\n",
       "      <td>0</td>\n",
       "      <td>0</td>\n",
       "    </tr>\n",
       "    <tr>\n",
       "      <td>4</td>\n",
       "      <td>0</td>\n",
       "      <td>1</td>\n",
       "      <td>0</td>\n",
       "      <td>0</td>\n",
       "      <td>0</td>\n",
       "      <td>0</td>\n",
       "      <td>0</td>\n",
       "      <td>0</td>\n",
       "    </tr>\n",
       "    <tr>\n",
       "      <td>5</td>\n",
       "      <td>0</td>\n",
       "      <td>1</td>\n",
       "      <td>0</td>\n",
       "      <td>0</td>\n",
       "      <td>0</td>\n",
       "      <td>0</td>\n",
       "      <td>0</td>\n",
       "      <td>0</td>\n",
       "    </tr>\n",
       "    <tr>\n",
       "      <td>6</td>\n",
       "      <td>0</td>\n",
       "      <td>0</td>\n",
       "      <td>0</td>\n",
       "      <td>1</td>\n",
       "      <td>0</td>\n",
       "      <td>0</td>\n",
       "      <td>0</td>\n",
       "      <td>0</td>\n",
       "    </tr>\n",
       "    <tr>\n",
       "      <td>7</td>\n",
       "      <td>0</td>\n",
       "      <td>0</td>\n",
       "      <td>0</td>\n",
       "      <td>1</td>\n",
       "      <td>0</td>\n",
       "      <td>0</td>\n",
       "      <td>0</td>\n",
       "      <td>0</td>\n",
       "    </tr>\n",
       "    <tr>\n",
       "      <td>8</td>\n",
       "      <td>0</td>\n",
       "      <td>0</td>\n",
       "      <td>0</td>\n",
       "      <td>1</td>\n",
       "      <td>0</td>\n",
       "      <td>0</td>\n",
       "      <td>0</td>\n",
       "      <td>0</td>\n",
       "    </tr>\n",
       "    <tr>\n",
       "      <td>9</td>\n",
       "      <td>0</td>\n",
       "      <td>0</td>\n",
       "      <td>0</td>\n",
       "      <td>1</td>\n",
       "      <td>0</td>\n",
       "      <td>0</td>\n",
       "      <td>0</td>\n",
       "      <td>0</td>\n",
       "    </tr>\n",
       "  </tbody>\n",
       "</table>\n",
       "</div>"
      ],
      "text/plain": [
       "   RAD_2.0  RAD_3.0  RAD_4.0  RAD_5.0  RAD_6.0  RAD_7.0  RAD_8.0  RAD_24.0\n",
       "0        0        0        0        0        0        0        0         0\n",
       "1        1        0        0        0        0        0        0         0\n",
       "2        1        0        0        0        0        0        0         0\n",
       "3        0        1        0        0        0        0        0         0\n",
       "4        0        1        0        0        0        0        0         0\n",
       "5        0        1        0        0        0        0        0         0\n",
       "6        0        0        0        1        0        0        0         0\n",
       "7        0        0        0        1        0        0        0         0\n",
       "8        0        0        0        1        0        0        0         0\n",
       "9        0        0        0        1        0        0        0         0"
      ]
     },
     "execution_count": 36,
     "metadata": {
      "tags": []
     },
     "output_type": "execute_result"
    }
   ],
   "source": [
    "RAD_Dummies.head(10)"
   ]
  },
  {
   "cell_type": "code",
   "execution_count": null,
   "metadata": {
    "id": "MIogLvkSlEVQ"
   },
   "outputs": [],
   "source": [
    "modeldata = pd.concat([data,RAD_Dummies],axis=1)"
   ]
  },
  {
   "cell_type": "code",
   "execution_count": null,
   "metadata": {
    "id": "1sevAyIKlEVQ",
    "outputId": "b0f6b8d7-a3f9-473a-8a8b-a939ef785a59"
   },
   "outputs": [
    {
     "data": {
      "text/html": [
       "<div>\n",
       "<style scoped>\n",
       "    .dataframe tbody tr th:only-of-type {\n",
       "        vertical-align: middle;\n",
       "    }\n",
       "\n",
       "    .dataframe tbody tr th {\n",
       "        vertical-align: top;\n",
       "    }\n",
       "\n",
       "    .dataframe thead th {\n",
       "        text-align: right;\n",
       "    }\n",
       "</style>\n",
       "<table border=\"1\" class=\"dataframe\">\n",
       "  <thead>\n",
       "    <tr style=\"text-align: right;\">\n",
       "      <th></th>\n",
       "      <th>CRIM</th>\n",
       "      <th>ZN</th>\n",
       "      <th>INDUS</th>\n",
       "      <th>CHAS</th>\n",
       "      <th>NOX</th>\n",
       "      <th>RM</th>\n",
       "      <th>AGE</th>\n",
       "      <th>DIS</th>\n",
       "      <th>RAD</th>\n",
       "      <th>TAX</th>\n",
       "      <th>...</th>\n",
       "      <th>LSTAT</th>\n",
       "      <th>target</th>\n",
       "      <th>RAD_2.0</th>\n",
       "      <th>RAD_3.0</th>\n",
       "      <th>RAD_4.0</th>\n",
       "      <th>RAD_5.0</th>\n",
       "      <th>RAD_6.0</th>\n",
       "      <th>RAD_7.0</th>\n",
       "      <th>RAD_8.0</th>\n",
       "      <th>RAD_24.0</th>\n",
       "    </tr>\n",
       "  </thead>\n",
       "  <tbody>\n",
       "    <tr>\n",
       "      <td>0</td>\n",
       "      <td>0.00632</td>\n",
       "      <td>18.0</td>\n",
       "      <td>2.31</td>\n",
       "      <td>0.0</td>\n",
       "      <td>0.538</td>\n",
       "      <td>6.575</td>\n",
       "      <td>65.2</td>\n",
       "      <td>4.0900</td>\n",
       "      <td>1.0</td>\n",
       "      <td>296.0</td>\n",
       "      <td>...</td>\n",
       "      <td>4.98</td>\n",
       "      <td>24.0</td>\n",
       "      <td>0</td>\n",
       "      <td>0</td>\n",
       "      <td>0</td>\n",
       "      <td>0</td>\n",
       "      <td>0</td>\n",
       "      <td>0</td>\n",
       "      <td>0</td>\n",
       "      <td>0</td>\n",
       "    </tr>\n",
       "    <tr>\n",
       "      <td>1</td>\n",
       "      <td>0.02731</td>\n",
       "      <td>0.0</td>\n",
       "      <td>7.07</td>\n",
       "      <td>0.0</td>\n",
       "      <td>0.469</td>\n",
       "      <td>6.421</td>\n",
       "      <td>78.9</td>\n",
       "      <td>4.9671</td>\n",
       "      <td>2.0</td>\n",
       "      <td>242.0</td>\n",
       "      <td>...</td>\n",
       "      <td>9.14</td>\n",
       "      <td>21.6</td>\n",
       "      <td>1</td>\n",
       "      <td>0</td>\n",
       "      <td>0</td>\n",
       "      <td>0</td>\n",
       "      <td>0</td>\n",
       "      <td>0</td>\n",
       "      <td>0</td>\n",
       "      <td>0</td>\n",
       "    </tr>\n",
       "  </tbody>\n",
       "</table>\n",
       "<p>2 rows × 22 columns</p>\n",
       "</div>"
      ],
      "text/plain": [
       "      CRIM    ZN  INDUS  CHAS    NOX     RM   AGE     DIS  RAD    TAX  ...  \\\n",
       "0  0.00632  18.0   2.31   0.0  0.538  6.575  65.2  4.0900  1.0  296.0  ...   \n",
       "1  0.02731   0.0   7.07   0.0  0.469  6.421  78.9  4.9671  2.0  242.0  ...   \n",
       "\n",
       "   LSTAT  target  RAD_2.0  RAD_3.0  RAD_4.0  RAD_5.0  RAD_6.0  RAD_7.0  \\\n",
       "0   4.98    24.0        0        0        0        0        0        0   \n",
       "1   9.14    21.6        1        0        0        0        0        0   \n",
       "\n",
       "   RAD_8.0  RAD_24.0  \n",
       "0        0         0  \n",
       "1        0         0  \n",
       "\n",
       "[2 rows x 22 columns]"
      ]
     },
     "execution_count": 38,
     "metadata": {
      "tags": []
     },
     "output_type": "execute_result"
    }
   ],
   "source": [
    "modeldata.head(2)"
   ]
  },
  {
   "cell_type": "code",
   "execution_count": null,
   "metadata": {
    "id": "yQM83Zl2lEVQ"
   },
   "outputs": [],
   "source": [
    "df_train, df_test = cv.train_test_split(modeldata,test_size=0.30,random_state=1234)"
   ]
  },
  {
   "cell_type": "code",
   "execution_count": null,
   "metadata": {
    "id": "gYHhTrxClEVQ",
    "outputId": "32b60208-2e0b-4efb-cb63-0c8b334c9a77"
   },
   "outputs": [
    {
     "data": {
      "text/plain": [
       "((354, 22), (152, 22))"
      ]
     },
     "execution_count": 40,
     "metadata": {
      "tags": []
     },
     "output_type": "execute_result"
    }
   ],
   "source": [
    "df_train.shape, df_test.shape"
   ]
  },
  {
   "cell_type": "code",
   "execution_count": null,
   "metadata": {
    "id": "6Jz32i7vlEVQ",
    "outputId": "1bd3e734-6fe6-4f3a-e986-869779d474ea"
   },
   "outputs": [
    {
     "name": "stderr",
     "output_type": "stream",
     "text": [
      "/Users/pradmishra/opt/anaconda3/lib/python3.7/site-packages/ipykernel_launcher.py:1: FutureWarning: Method .as_matrix will be removed in a future version. Use .values instead.\n",
      "  \"\"\"Entry point for launching an IPython kernel.\n"
     ]
    }
   ],
   "source": [
    "XTrain = df_train.iloc[:,list(range(7)) + list(range(9,13)) + list(range(15,df_train.shape[1]))].as_matrix()\n",
    "YTrain = df_train['target']"
   ]
  },
  {
   "cell_type": "code",
   "execution_count": null,
   "metadata": {
    "id": "Lqs2TNyClEVR",
    "outputId": "12413a16-9200-46b3-9657-ae4770b97116"
   },
   "outputs": [
    {
     "name": "stderr",
     "output_type": "stream",
     "text": [
      "/Users/pradmishra/opt/anaconda3/lib/python3.7/site-packages/ipykernel_launcher.py:1: FutureWarning: Method .as_matrix will be removed in a future version. Use .values instead.\n",
      "  \"\"\"Entry point for launching an IPython kernel.\n"
     ]
    }
   ],
   "source": [
    "XTest = df_test.iloc[:,list(range(7)) + list(range(9,13)) + list(range(15,df_test.shape[1]))].as_matrix()\n",
    "YTest = df_test['target']"
   ]
  },
  {
   "cell_type": "code",
   "execution_count": null,
   "metadata": {
    "id": "ID6oViGFlEVR",
    "outputId": "5fa2e6d6-f630-4804-a1c1-5d9dafe111ab"
   },
   "outputs": [
    {
     "data": {
      "text/plain": [
       "((354, 18), (354,))"
      ]
     },
     "execution_count": 43,
     "metadata": {
      "tags": []
     },
     "output_type": "execute_result"
    }
   ],
   "source": [
    "XTrain.shape,YTrain.shape"
   ]
  },
  {
   "cell_type": "code",
   "execution_count": null,
   "metadata": {
    "id": "FPb3_G4dlEVR",
    "outputId": "27331c0c-f71a-44e8-fde9-f36add6f3f51"
   },
   "outputs": [
    {
     "data": {
      "text/plain": [
       "LinearRegression(copy_X=True, fit_intercept=True, n_jobs=None, normalize=True)"
      ]
     },
     "execution_count": 44,
     "metadata": {
      "tags": []
     },
     "output_type": "execute_result"
    }
   ],
   "source": [
    "reg"
   ]
  },
  {
   "cell_type": "code",
   "execution_count": null,
   "metadata": {
    "id": "f0M5UUhBlEVR"
   },
   "outputs": [],
   "source": [
    "regr = linear_model.LinearRegression()"
   ]
  },
  {
   "cell_type": "code",
   "execution_count": null,
   "metadata": {
    "id": "Vi8OxoFslEVR",
    "outputId": "dd0c441c-730f-4b47-b791-7d4122f03590"
   },
   "outputs": [
    {
     "data": {
      "text/plain": [
       "LinearRegression(copy_X=True, fit_intercept=True, n_jobs=None, normalize=False)"
      ]
     },
     "execution_count": 46,
     "metadata": {
      "tags": []
     },
     "output_type": "execute_result"
    }
   ],
   "source": [
    "regr.fit(XTrain,YTrain)"
   ]
  },
  {
   "cell_type": "code",
   "execution_count": null,
   "metadata": {
    "id": "fZPsMgBQlEVS",
    "outputId": "cf1f0b1b-41a2-4ab6-8b30-1b446a9390da"
   },
   "outputs": [
    {
     "data": {
      "text/plain": [
       "0.695565343494841"
      ]
     },
     "execution_count": 47,
     "metadata": {
      "tags": []
     },
     "output_type": "execute_result"
    }
   ],
   "source": [
    "regr.score(XTrain,YTrain)"
   ]
  },
  {
   "cell_type": "code",
   "execution_count": null,
   "metadata": {
    "id": "GRuSs-5glEVS",
    "outputId": "2aa1d744-9da0-40e5-b7de-2392591616c5"
   },
   "outputs": [
    {
     "data": {
      "text/plain": [
       "(18.160706724458546, 23.771389527802278)"
      ]
     },
     "execution_count": 48,
     "metadata": {
      "tags": []
     },
     "output_type": "execute_result"
    }
   ],
   "source": [
    "regr.MAPE, regr.MSSE = ErrorMetric(regr,XTest,YTest)\n",
    "regr.MAPE, regr.MSSE"
   ]
  },
  {
   "cell_type": "code",
   "execution_count": null,
   "metadata": {
    "id": "ujCA8GeblEVS",
    "outputId": "53dc7251-de36-4675-94e5-8efa7dce17ab"
   },
   "outputs": [
    {
     "name": "stdout",
     "output_type": "stream",
     "text": [
      "0.6792076604587429 0.695565343494841\n"
     ]
    }
   ],
   "source": [
    "regr.adjR2, regr.R2 = AdjustedRSquare(regr,XTrain,YTrain)\n",
    "print (regr.adjR2, regr.R2)"
   ]
  },
  {
   "cell_type": "code",
   "execution_count": null,
   "metadata": {
    "id": "n5D4acJolEVS"
   },
   "outputs": [],
   "source": [
    "# Polynomial features\n",
    "# We can try Polynomial Rergession \n",
    "from sklearn.preprocessing import PolynomialFeatures\n",
    "from sklearn.preprocessing import StandardScaler"
   ]
  },
  {
   "cell_type": "code",
   "execution_count": null,
   "metadata": {
    "id": "yhDI9LC-lEVS"
   },
   "outputs": [],
   "source": [
    "# two kinds of polynomial features:\n",
    "# base features =13\n",
    "# transforming the individual features (degree 2= 13)\n",
    "# creating interaction features (13C2 = 78)"
   ]
  },
  {
   "cell_type": "code",
   "execution_count": null,
   "metadata": {
    "id": "FpDboCrDlEVT",
    "outputId": "ff511634-c0f3-4ddc-d773-454bc64cea5d"
   },
   "outputs": [
    {
     "data": {
      "text/plain": [
       "104"
      ]
     },
     "execution_count": 52,
     "metadata": {
      "tags": []
     },
     "output_type": "execute_result"
    }
   ],
   "source": [
    "78+26"
   ]
  },
  {
   "cell_type": "code",
   "execution_count": null,
   "metadata": {
    "id": "Zv_JNetplEVT"
   },
   "outputs": [],
   "source": [
    "from sklearn.preprocessing import StandardScaler"
   ]
  },
  {
   "cell_type": "code",
   "execution_count": null,
   "metadata": {
    "id": "v_EO4c4tlEVT"
   },
   "outputs": [],
   "source": [
    "scaler = StandardScaler()"
   ]
  },
  {
   "cell_type": "code",
   "execution_count": null,
   "metadata": {
    "id": "ngOzUvGBlEVT"
   },
   "outputs": [],
   "source": [
    "X = scaler.fit_transform(bhdata['data'])"
   ]
  },
  {
   "cell_type": "code",
   "execution_count": null,
   "metadata": {
    "id": "wQCZa1sylEVT",
    "outputId": "c27c7c86-5cb9-460d-a5bb-f1b47c6bd996"
   },
   "outputs": [
    {
     "data": {
      "text/html": [
       "<div>\n",
       "<style scoped>\n",
       "    .dataframe tbody tr th:only-of-type {\n",
       "        vertical-align: middle;\n",
       "    }\n",
       "\n",
       "    .dataframe tbody tr th {\n",
       "        vertical-align: top;\n",
       "    }\n",
       "\n",
       "    .dataframe thead th {\n",
       "        text-align: right;\n",
       "    }\n",
       "</style>\n",
       "<table border=\"1\" class=\"dataframe\">\n",
       "  <thead>\n",
       "    <tr style=\"text-align: right;\">\n",
       "      <th></th>\n",
       "      <th>0</th>\n",
       "      <th>1</th>\n",
       "      <th>2</th>\n",
       "      <th>3</th>\n",
       "      <th>4</th>\n",
       "      <th>5</th>\n",
       "      <th>6</th>\n",
       "      <th>7</th>\n",
       "      <th>8</th>\n",
       "      <th>9</th>\n",
       "      <th>10</th>\n",
       "      <th>11</th>\n",
       "      <th>12</th>\n",
       "    </tr>\n",
       "  </thead>\n",
       "  <tbody>\n",
       "    <tr>\n",
       "      <td>0</td>\n",
       "      <td>-0.419782</td>\n",
       "      <td>0.284830</td>\n",
       "      <td>-1.287909</td>\n",
       "      <td>-0.272599</td>\n",
       "      <td>-0.144217</td>\n",
       "      <td>0.413672</td>\n",
       "      <td>-0.120013</td>\n",
       "      <td>0.140214</td>\n",
       "      <td>-0.982843</td>\n",
       "      <td>-0.666608</td>\n",
       "      <td>-1.459000</td>\n",
       "      <td>0.441052</td>\n",
       "      <td>-1.075562</td>\n",
       "    </tr>\n",
       "    <tr>\n",
       "      <td>1</td>\n",
       "      <td>-0.417339</td>\n",
       "      <td>-0.487722</td>\n",
       "      <td>-0.593381</td>\n",
       "      <td>-0.272599</td>\n",
       "      <td>-0.740262</td>\n",
       "      <td>0.194274</td>\n",
       "      <td>0.367166</td>\n",
       "      <td>0.557160</td>\n",
       "      <td>-0.867883</td>\n",
       "      <td>-0.987329</td>\n",
       "      <td>-0.303094</td>\n",
       "      <td>0.441052</td>\n",
       "      <td>-0.492439</td>\n",
       "    </tr>\n",
       "    <tr>\n",
       "      <td>2</td>\n",
       "      <td>-0.417342</td>\n",
       "      <td>-0.487722</td>\n",
       "      <td>-0.593381</td>\n",
       "      <td>-0.272599</td>\n",
       "      <td>-0.740262</td>\n",
       "      <td>1.282714</td>\n",
       "      <td>-0.265812</td>\n",
       "      <td>0.557160</td>\n",
       "      <td>-0.867883</td>\n",
       "      <td>-0.987329</td>\n",
       "      <td>-0.303094</td>\n",
       "      <td>0.396427</td>\n",
       "      <td>-1.208727</td>\n",
       "    </tr>\n",
       "    <tr>\n",
       "      <td>3</td>\n",
       "      <td>-0.416750</td>\n",
       "      <td>-0.487722</td>\n",
       "      <td>-1.306878</td>\n",
       "      <td>-0.272599</td>\n",
       "      <td>-0.835284</td>\n",
       "      <td>1.016303</td>\n",
       "      <td>-0.809889</td>\n",
       "      <td>1.077737</td>\n",
       "      <td>-0.752922</td>\n",
       "      <td>-1.106115</td>\n",
       "      <td>0.113032</td>\n",
       "      <td>0.416163</td>\n",
       "      <td>-1.361517</td>\n",
       "    </tr>\n",
       "    <tr>\n",
       "      <td>4</td>\n",
       "      <td>-0.412482</td>\n",
       "      <td>-0.487722</td>\n",
       "      <td>-1.306878</td>\n",
       "      <td>-0.272599</td>\n",
       "      <td>-0.835284</td>\n",
       "      <td>1.228577</td>\n",
       "      <td>-0.511180</td>\n",
       "      <td>1.077737</td>\n",
       "      <td>-0.752922</td>\n",
       "      <td>-1.106115</td>\n",
       "      <td>0.113032</td>\n",
       "      <td>0.441052</td>\n",
       "      <td>-1.026501</td>\n",
       "    </tr>\n",
       "  </tbody>\n",
       "</table>\n",
       "</div>"
      ],
      "text/plain": [
       "          0         1         2         3         4         5         6  \\\n",
       "0 -0.419782  0.284830 -1.287909 -0.272599 -0.144217  0.413672 -0.120013   \n",
       "1 -0.417339 -0.487722 -0.593381 -0.272599 -0.740262  0.194274  0.367166   \n",
       "2 -0.417342 -0.487722 -0.593381 -0.272599 -0.740262  1.282714 -0.265812   \n",
       "3 -0.416750 -0.487722 -1.306878 -0.272599 -0.835284  1.016303 -0.809889   \n",
       "4 -0.412482 -0.487722 -1.306878 -0.272599 -0.835284  1.228577 -0.511180   \n",
       "\n",
       "          7         8         9        10        11        12  \n",
       "0  0.140214 -0.982843 -0.666608 -1.459000  0.441052 -1.075562  \n",
       "1  0.557160 -0.867883 -0.987329 -0.303094  0.441052 -0.492439  \n",
       "2  0.557160 -0.867883 -0.987329 -0.303094  0.396427 -1.208727  \n",
       "3  1.077737 -0.752922 -1.106115  0.113032  0.416163 -1.361517  \n",
       "4  1.077737 -0.752922 -1.106115  0.113032  0.441052 -1.026501  "
      ]
     },
     "execution_count": 59,
     "metadata": {
      "tags": []
     },
     "output_type": "execute_result"
    }
   ],
   "source": [
    "pd.DataFrame(X).head()"
   ]
  },
  {
   "cell_type": "code",
   "execution_count": null,
   "metadata": {
    "id": "YH4Sl01dlEVU"
   },
   "outputs": [],
   "source": [
    "poly = PolynomialFeatures(3)"
   ]
  },
  {
   "cell_type": "code",
   "execution_count": null,
   "metadata": {
    "id": "mnP0TZUelEVU",
    "outputId": "15c8c05a-7935-45e2-f487-c4f6ff2bb076"
   },
   "outputs": [
    {
     "data": {
      "text/plain": [
       "PolynomialFeatures(degree=3, include_bias=True, interaction_only=False,\n",
       "                   order='C')"
      ]
     },
     "execution_count": 57,
     "metadata": {
      "tags": []
     },
     "output_type": "execute_result"
    }
   ],
   "source": [
    "poly"
   ]
  },
  {
   "cell_type": "code",
   "execution_count": null,
   "metadata": {
    "id": "8iL7i3r6lEVU"
   },
   "outputs": [],
   "source": [
    "Xpoly = poly.fit_transform(X)"
   ]
  },
  {
   "cell_type": "code",
   "execution_count": null,
   "metadata": {
    "id": "5O5wlPGXlEVU",
    "outputId": "a625f75f-776f-4522-a3fb-661cadd602c4"
   },
   "outputs": [
    {
     "data": {
      "text/plain": [
       "(506, 560)"
      ]
     },
     "execution_count": 59,
     "metadata": {
      "tags": []
     },
     "output_type": "execute_result"
    }
   ],
   "source": [
    "Xpoly.shape"
   ]
  },
  {
   "cell_type": "code",
   "execution_count": null,
   "metadata": {
    "id": "bRdncL1xlEVU",
    "outputId": "61b2f175-2ddd-4f4a-c73f-ffccff38bb00"
   },
   "outputs": [
    {
     "name": "stdout",
     "output_type": "stream",
     "text": [
      "506\n"
     ]
    }
   ],
   "source": [
    "print (len(Xpoly))"
   ]
  },
  {
   "cell_type": "code",
   "execution_count": null,
   "metadata": {
    "id": "0aolDig2lEVV"
   },
   "outputs": [],
   "source": [
    "x = Xpoly\n",
    "Y = bhdata['target']"
   ]
  },
  {
   "cell_type": "code",
   "execution_count": null,
   "metadata": {
    "id": "qDZa_buqlEVV",
    "outputId": "c1286f7a-830d-4479-9aad-377105238693"
   },
   "outputs": [
    {
     "name": "stdout",
     "output_type": "stream",
     "text": [
      "['intercept', 'CRIM', 'ZN', 'INDUS', 'CHAS', 'NOX', 'RM', 'AGE', 'DIS', 'RAD', 'TAX', 'PTRATIO', 'B', 'LSTAT']\n"
     ]
    }
   ],
   "source": [
    "# interaction features\n",
    "featurenames = ['intercept'] + list(bhdata['feature_names'])\n",
    "\n",
    "polyfeaturenames = [];\n",
    "\n",
    "for i,x in enumerate(featurenames):\n",
    "    for y in featurenames[i:]:\n",
    "        if (x == 'intercept'):\n",
    "            polyfeaturenames.append(y)\n",
    "        elif (x==y):\n",
    "            polyfeaturenames.append((y+'_Square'))\n",
    "        else:\n",
    "            polyfeaturenames.append((x+'_'+y))\n",
    "print(featurenames)\n"
   ]
  },
  {
   "cell_type": "code",
   "execution_count": null,
   "metadata": {
    "id": "6TC8Zv7ZlEVV",
    "outputId": "b1bfe776-8303-4a08-b73e-9ade8dbae5ba"
   },
   "outputs": [
    {
     "name": "stdout",
     "output_type": "stream",
     "text": [
      "['intercept', 'CRIM', 'ZN', 'INDUS', 'CHAS', 'NOX', 'RM', 'AGE', 'DIS', 'RAD', 'TAX', 'PTRATIO', 'B', 'LSTAT', 'CRIM_Square', 'CRIM_ZN', 'CRIM_INDUS', 'CRIM_CHAS', 'CRIM_NOX', 'CRIM_RM', 'CRIM_AGE', 'CRIM_DIS', 'CRIM_RAD', 'CRIM_TAX', 'CRIM_PTRATIO', 'CRIM_B', 'CRIM_LSTAT', 'ZN_Square', 'ZN_INDUS', 'ZN_CHAS', 'ZN_NOX', 'ZN_RM', 'ZN_AGE', 'ZN_DIS', 'ZN_RAD', 'ZN_TAX', 'ZN_PTRATIO', 'ZN_B', 'ZN_LSTAT', 'INDUS_Square', 'INDUS_CHAS', 'INDUS_NOX', 'INDUS_RM', 'INDUS_AGE', 'INDUS_DIS', 'INDUS_RAD', 'INDUS_TAX', 'INDUS_PTRATIO', 'INDUS_B', 'INDUS_LSTAT', 'CHAS_Square', 'CHAS_NOX', 'CHAS_RM', 'CHAS_AGE', 'CHAS_DIS', 'CHAS_RAD', 'CHAS_TAX', 'CHAS_PTRATIO', 'CHAS_B', 'CHAS_LSTAT', 'NOX_Square', 'NOX_RM', 'NOX_AGE', 'NOX_DIS', 'NOX_RAD', 'NOX_TAX', 'NOX_PTRATIO', 'NOX_B', 'NOX_LSTAT', 'RM_Square', 'RM_AGE', 'RM_DIS', 'RM_RAD', 'RM_TAX', 'RM_PTRATIO', 'RM_B', 'RM_LSTAT', 'AGE_Square', 'AGE_DIS', 'AGE_RAD', 'AGE_TAX', 'AGE_PTRATIO', 'AGE_B', 'AGE_LSTAT', 'DIS_Square', 'DIS_RAD', 'DIS_TAX', 'DIS_PTRATIO', 'DIS_B', 'DIS_LSTAT', 'RAD_Square', 'RAD_TAX', 'RAD_PTRATIO', 'RAD_B', 'RAD_LSTAT', 'TAX_Square', 'TAX_PTRATIO', 'TAX_B', 'TAX_LSTAT', 'PTRATIO_Square', 'PTRATIO_B', 'PTRATIO_LSTAT', 'B_Square', 'B_LSTAT', 'LSTAT_Square']\n"
     ]
    }
   ],
   "source": [
    "print (polyfeaturenames)"
   ]
  },
  {
   "cell_type": "code",
   "execution_count": null,
   "metadata": {
    "id": "ZQDXx9Y-lEVW",
    "outputId": "51cef7cb-5d6a-4604-c4e7-c7db8aef510d"
   },
   "outputs": [
    {
     "data": {
      "text/plain": [
       "(506, 105)"
      ]
     },
     "execution_count": 68,
     "metadata": {
      "tags": []
     },
     "output_type": "execute_result"
    }
   ],
   "source": [
    "Xpoly.shape"
   ]
  },
  {
   "cell_type": "code",
   "execution_count": null,
   "metadata": {
    "id": "Y5w3cv8zlEVW",
    "outputId": "7943c574-d177-4f69-a0a5-45190e7ed8fa"
   },
   "outputs": [
    {
     "data": {
      "text/plain": [
       "LinearRegression(copy_X=True, fit_intercept=True, n_jobs=None, normalize=False)"
      ]
     },
     "execution_count": 69,
     "metadata": {
      "tags": []
     },
     "output_type": "execute_result"
    }
   ],
   "source": [
    "regr2 = linear_model.LinearRegression()\n",
    "\n",
    "regr2"
   ]
  },
  {
   "cell_type": "code",
   "execution_count": null,
   "metadata": {
    "id": "LrGeDVfelEVW",
    "outputId": "28c6a654-afc7-4b01-f010-5b6f9bd9d833"
   },
   "outputs": [
    {
     "data": {
      "text/plain": [
       "LinearRegression(copy_X=True, fit_intercept=True, n_jobs=None, normalize=False)"
      ]
     },
     "execution_count": 70,
     "metadata": {
      "tags": []
     },
     "output_type": "execute_result"
    }
   ],
   "source": [
    "regr2.fit(Xpoly,Y)\n"
   ]
  },
  {
   "cell_type": "code",
   "execution_count": null,
   "metadata": {
    "id": "XVVfeK43lEVW",
    "outputId": "2ba2dddc-7e5d-4e59-8f53-89319d203b2b"
   },
   "outputs": [
    {
     "data": {
      "text/plain": [
       "0.9289668414388449"
      ]
     },
     "execution_count": 71,
     "metadata": {
      "tags": []
     },
     "output_type": "execute_result"
    }
   ],
   "source": [
    "regr2.score(Xpoly,Y)"
   ]
  },
  {
   "cell_type": "code",
   "execution_count": null,
   "metadata": {
    "id": "U_C6lsURlEVW",
    "outputId": "b31ca7e0-12fe-4502-b410-225df6d6ad55"
   },
   "outputs": [
    {
     "name": "stdout",
     "output_type": "stream",
     "text": [
      "0.9103206373165417 0.9289668414388449\n"
     ]
    }
   ],
   "source": [
    "regr2.adjR2, regr2.R2 = AdjustedRSquare(regr2,Xpoly,Y)\n",
    "print (regr2.adjR2, regr2.R2)\n"
   ]
  },
  {
   "cell_type": "code",
   "execution_count": null,
   "metadata": {
    "id": "pgJkJoWSlEVX",
    "outputId": "5d917a4c-3f4c-4d31-8abb-1b76bd3a4b61"
   },
   "outputs": [
    {
     "name": "stderr",
     "output_type": "stream",
     "text": [
      "/Users/pradmishra/opt/anaconda3/lib/python3.7/site-packages/ipykernel_launcher.py:13: ComplexWarning: Casting complex values to real discards the imaginary part\n",
      "  del sys.path[0]\n"
     ]
    },
    {
     "data": {
      "text/plain": [
       "array([0.5, 0.1, 0. , 0. , 0. , 0. , 0. , 0. , 0. , 0.2, 0.1, 0.1, 0. ,\n",
       "       0. , 0. , 0.1, 0. , 0. , 0.2, 0. , 0.2, 0.2, 0.3, 0.2, 0. , 0. ,\n",
       "       0. , 0.1, 0.1, 0.1, 0. , 0.2, 0.5, 0.1, 0.2, 0. , 0.1, 0.2, 0.1,\n",
       "       0. , 0.5, 0.2, 0. , 0.1, 0. , 0.3, 0.2, 0.3, 0.1, 0.1, 0. , 0. ,\n",
       "       0. , 0.4, 0.2, 0.4, 0.5, 0. , 0.1, 0.1, 0.2, 0.4, 0. , 0. , 0.1,\n",
       "       0. , 0. , 0.2, 0. , 0. , 0. , 0.4, 0.3, 0. , 0. , 0.1, 0. , 0.3,\n",
       "       0.3, 0. , 0. , 0.5, 0. , 0. , 0. , 0. , 0. , 0. , 0.2, 0. , 0. ,\n",
       "       0. , 0.1, 0.4, 0. , 0. , 0. , 0.3, 0.2, 0.2, 0.1, 0.4, 0. , 0.1,\n",
       "       0. ])"
      ]
     },
     "execution_count": 73,
     "metadata": {
      "tags": []
     },
     "output_type": "execute_result"
    }
   ],
   "source": [
    "np.round(ReturnPValue(regr2,Xpoly,Y),1)"
   ]
  },
  {
   "cell_type": "code",
   "execution_count": null,
   "metadata": {
    "id": "OjFR32WGlEVX",
    "outputId": "755a37b2-2701-438f-cdbd-33945b3db220"
   },
   "outputs": [
    {
     "name": "stdout",
     "output_type": "stream",
     "text": [
      "['intercept', 'CRIM', 'ZN', 'INDUS', 'CHAS', 'NOX', 'RM', 'AGE', 'DIS', 'RAD', 'TAX', 'PTRATIO', 'B', 'LSTAT', 'CRIM_Square', 'CRIM_ZN', 'CRIM_INDUS', 'CRIM_CHAS', 'CRIM_NOX', 'CRIM_RM', 'CRIM_AGE', 'CRIM_DIS', 'CRIM_RAD', 'CRIM_TAX', 'CRIM_PTRATIO', 'CRIM_B', 'CRIM_LSTAT', 'ZN_Square', 'ZN_INDUS', 'ZN_CHAS', 'ZN_NOX', 'ZN_RM', 'ZN_AGE', 'ZN_DIS', 'ZN_RAD', 'ZN_TAX', 'ZN_PTRATIO', 'ZN_B', 'ZN_LSTAT', 'INDUS_Square', 'INDUS_CHAS', 'INDUS_NOX', 'INDUS_RM', 'INDUS_AGE', 'INDUS_DIS', 'INDUS_RAD', 'INDUS_TAX', 'INDUS_PTRATIO', 'INDUS_B', 'INDUS_LSTAT', 'CHAS_Square', 'CHAS_NOX', 'CHAS_RM', 'CHAS_AGE', 'CHAS_DIS', 'CHAS_RAD', 'CHAS_TAX', 'CHAS_PTRATIO', 'CHAS_B', 'CHAS_LSTAT', 'NOX_Square', 'NOX_RM', 'NOX_AGE', 'NOX_DIS', 'NOX_RAD', 'NOX_TAX', 'NOX_PTRATIO', 'NOX_B', 'NOX_LSTAT', 'RM_Square', 'RM_AGE', 'RM_DIS', 'RM_RAD', 'RM_TAX', 'RM_PTRATIO', 'RM_B', 'RM_LSTAT', 'AGE_Square', 'AGE_DIS', 'AGE_RAD', 'AGE_TAX', 'AGE_PTRATIO', 'AGE_B', 'AGE_LSTAT', 'DIS_Square', 'DIS_RAD', 'DIS_TAX', 'DIS_PTRATIO', 'DIS_B', 'DIS_LSTAT', 'RAD_Square', 'RAD_TAX', 'RAD_PTRATIO', 'RAD_B', 'RAD_LSTAT', 'TAX_Square', 'TAX_PTRATIO', 'TAX_B', 'TAX_LSTAT', 'PTRATIO_Square', 'PTRATIO_B', 'PTRATIO_LSTAT', 'B_Square', 'B_LSTAT', 'LSTAT_Square']\n"
     ]
    }
   ],
   "source": [
    "print (polyfeaturenames)"
   ]
  },
  {
   "cell_type": "code",
   "execution_count": null,
   "metadata": {
    "id": "aBpIDPUJlEVX",
    "outputId": "27a0e8e6-0290-46d2-d1dc-21ed1cac81d9"
   },
   "outputs": [
    {
     "name": "stdout",
     "output_type": "stream",
     "text": [
      "9.39697020374462 5.996587718103243\n"
     ]
    }
   ],
   "source": [
    "regr2.MAPE, regr2.MSSE = ErrorMetric(regr2,Xpoly,Y)\n",
    "print (regr2.MAPE, regr2.MSSE)"
   ]
  },
  {
   "cell_type": "code",
   "execution_count": null,
   "metadata": {
    "id": "3KIUzKOxlEVX",
    "outputId": "0a0e4fa1-9d37-46eb-f070-b74ea7361ac5"
   },
   "outputs": [
    {
     "name": "stdout",
     "output_type": "stream",
     "text": [
      "[-6.29027110e-02  2.18922198e-02  9.31070144e-02  2.93069696e+00\n",
      " -1.11960674e+01  3.09254199e+00  4.37965130e-02 -1.11353972e-02\n",
      " -1.19246843e+00  9.29090571e-03 -6.24382465e-01  3.28799043e+00\n",
      "  1.77845653e+00  1.52138497e+00  1.03079931e+00  1.85912890e+00\n",
      "  1.95965565e+00  8.05104573e+00]\n",
      "[-3.19540199e-12  1.59720526e+01  1.49563747e+01  9.23418581e+00\n",
      "  3.80461129e+12 -1.88273323e+00  3.51595276e+00 -2.08801570e+00\n",
      " -2.45756745e+00  5.06695557e+00 -9.98182678e+00  1.16366577e+00\n",
      "  1.40481567e+00 -3.14845276e+00  1.09619141e-01  4.34020386e+01\n",
      "  2.31938171e+01  5.42572021e+00 -7.23785400e-01  8.54125977e-01\n",
      " -7.93746948e-01 -1.75195312e+00  1.58265991e+01 -3.45992889e+01\n",
      "  7.23960114e+00 -2.59765625e-01  1.29612732e+00 -2.75146484e-01\n",
      " -8.61022949e-01 -3.55010986e-01 -2.86883545e+00  2.30834961e-01\n",
      "  3.55224609e-02 -5.19226074e-01 -1.04397583e+00  2.51507568e+00\n",
      " -3.43261719e-01  1.40032959e+00 -7.75146484e-01  1.88409424e+00\n",
      "  1.65405273e-02  9.12719727e-01  1.40759277e+00  7.00523376e-01\n",
      "  1.94863892e+00 -1.44812012e+00  6.43547058e-01 -1.91833496e-01\n",
      "  1.57676697e+00 -5.93750000e-01 -1.12038756e+12 -9.99511719e-01\n",
      " -9.77706909e-01  9.33227539e-02  5.79010010e-01 -1.17233276e-01\n",
      "  1.50848389e-01 -5.08064270e-01  4.43161011e-01 -4.24194336e-01\n",
      " -4.99755859e-01  1.19293213e-01 -1.42163086e+00  3.53167725e+00\n",
      " -1.98776245e+00  3.57183075e+00 -2.77416992e+00 -2.02667236e-01\n",
      "  9.49783325e-01  1.82739258e-01 -1.11972046e+00  7.83233643e-02\n",
      " -3.42224121e-01 -2.23864746e+00 -8.34472656e-01 -2.53601074e-01\n",
      " -9.47265625e-01  1.15539551e-01 -2.39776611e-01  3.85753632e+00\n",
      " -2.63641357e+00  1.56250000e-02 -1.69604492e+00 -1.49450684e+00\n",
      "  1.92748260e+00 -1.87443352e+00 -1.75390625e+00 -7.45544434e-01\n",
      " -6.29974365e-01  1.19505310e+00 -9.38311768e+00  1.10773010e+01\n",
      " -1.60821533e+00  2.27661133e-01 -1.89775085e+00 -2.28808594e+00\n",
      "  2.02554321e+00 -1.48980713e+00 -7.42401123e-01  6.37207031e-02\n",
      "  5.19287109e-01  9.52758789e-02 -3.12866211e-01 -2.97485352e-01\n",
      "  6.59042358e-01]\n"
     ]
    }
   ],
   "source": [
    "print (regr.coef_)\n",
    "print (regr2.coef_)"
   ]
  },
  {
   "cell_type": "code",
   "execution_count": null,
   "metadata": {
    "id": "2pA7rXiMlEVY"
   },
   "outputs": [],
   "source": [
    "# Null: beta estimates are = 0\n",
    "# Alt : beta estimates are != 0"
   ]
  },
  {
   "cell_type": "code",
   "execution_count": null,
   "metadata": {
    "id": "8nkeDAMPlEVY"
   },
   "outputs": [],
   "source": [
    "# to restrict the model overfitting\n",
    "# regularized regression models\n",
    "\n",
    "# LASSO - L1\n",
    "# Ridge - L2"
   ]
  },
  {
   "cell_type": "code",
   "execution_count": null,
   "metadata": {
    "id": "A3ASMG98lEVY"
   },
   "outputs": [],
   "source": [
    "from sklearn.linear_model import Lasso"
   ]
  },
  {
   "cell_type": "code",
   "execution_count": null,
   "metadata": {
    "id": "GxZmBKymlEVZ"
   },
   "outputs": [],
   "source": [
    "XTrain, XTest, YTrain, YTest = cv.train_test_split(Xpoly,Y, test_size=0.25,random_state=1234)"
   ]
  },
  {
   "cell_type": "code",
   "execution_count": null,
   "metadata": {
    "id": "8wZ_9ihSlEVZ",
    "outputId": "e5b8d2d6-6f83-422d-9766-1c30d1ec96c0"
   },
   "outputs": [
    {
     "data": {
      "text/plain": [
       "((379, 105), (127, 105), (379,), (127,))"
      ]
     },
     "execution_count": 81,
     "metadata": {
      "tags": []
     },
     "output_type": "execute_result"
    }
   ],
   "source": [
    "XTrain.shape, XTest.shape, YTrain.shape, YTest.shape"
   ]
  },
  {
   "cell_type": "code",
   "execution_count": null,
   "metadata": {
    "id": "zFj3ozeblEVZ"
   },
   "outputs": [],
   "source": [
    "lassoMod = Lasso(alpha=0.9)"
   ]
  },
  {
   "cell_type": "code",
   "execution_count": null,
   "metadata": {
    "id": "TOtKlmPqlEVZ",
    "outputId": "7e3b7e3e-e45d-4e1a-ae3e-7f2034a21e9e"
   },
   "outputs": [
    {
     "data": {
      "text/plain": [
       "Lasso(alpha=0.9, copy_X=True, fit_intercept=True, max_iter=1000,\n",
       "      normalize=False, positive=False, precompute=False, random_state=None,\n",
       "      selection='cyclic', tol=0.0001, warm_start=False)"
      ]
     },
     "execution_count": 83,
     "metadata": {
      "tags": []
     },
     "output_type": "execute_result"
    }
   ],
   "source": [
    "lassoMod.fit(XTrain,YTrain)"
   ]
  },
  {
   "cell_type": "code",
   "execution_count": null,
   "metadata": {
    "id": "aCzYAeJalEVa",
    "outputId": "5d765c8e-11b3-4cfb-832a-ca0413e8e941"
   },
   "outputs": [
    {
     "name": "stdout",
     "output_type": "stream",
     "text": [
      "[ 0.         -0.          0.         -0.          0.         -0.\n",
      "  1.60399752 -0.         -0.         -0.         -0.         -0.70436791\n",
      "  0.         -3.95772244 -0.07577914  0.         -0.          0.\n",
      " -0.         -0.         -0.          0.         -0.         -0.\n",
      "  0.          0.         -0.          0.04931477 -0.          0.\n",
      "  0.          0.         -0.         -0.         -0.         -0.\n",
      " -0.         -0.         -0.          0.          0.         -0.\n",
      " -0.         -0.          0.         -0.         -0.          0.\n",
      "  0.         -0.          0.19527659 -0.         -0.          0.\n",
      " -0.          0.          0.          0.          0.         -0.\n",
      " -0.         -0.         -0.          0.         -0.         -0.\n",
      " -0.          0.         -0.          0.74651837 -0.          0.\n",
      " -0.         -0.03396626 -1.01960633  0.         -0.21098532  0.\n",
      "  0.         -0.         -0.         -0.         -0.         -0.\n",
      " -0.          0.          0.          0.         -0.          0.\n",
      " -0.         -0.          0.          0.         -0.         -0.\n",
      "  0.          0.         -0.          0.         -0.         -0.\n",
      " -0.25900908 -0.          0.        ]\n"
     ]
    }
   ],
   "source": [
    "print (lassoMod.coef_)"
   ]
  },
  {
   "cell_type": "code",
   "execution_count": null,
   "metadata": {
    "id": "zdfhwwRElEVa",
    "outputId": "3dc6c285-2172-4088-9db8-ac1ebccea1b6"
   },
   "outputs": [
    {
     "data": {
      "text/plain": [
       "array([ 1.60399752, -0.70436791, -3.95772244, -0.07577914,  0.04931477,\n",
       "        0.19527659,  0.74651837, -0.03396626, -1.01960633, -0.21098532,\n",
       "       -0.25900908])"
      ]
     },
     "execution_count": 85,
     "metadata": {
      "tags": []
     },
     "output_type": "execute_result"
    }
   ],
   "source": [
    "lassoMod.coef_[((lassoMod.coef_)!=0)]"
   ]
  },
  {
   "cell_type": "code",
   "execution_count": null,
   "metadata": {
    "id": "nXPn5dZ2lEVa",
    "outputId": "3349295b-8e9f-49cf-81e9-759940eec70d"
   },
   "outputs": [
    {
     "name": "stdout",
     "output_type": "stream",
     "text": [
      "[ 0.         -0.          0.         -0.          0.         -0.\n",
      "  1.56690689 -0.         -0.         -0.         -0.         -0.65876025\n",
      "  0.         -3.84571096 -0.07516     0.         -0.          0.\n",
      " -0.         -0.         -0.          0.         -0.         -0.\n",
      "  0.          0.         -0.          0.06359877 -0.          0.\n",
      "  0.          0.         -0.         -0.         -0.         -0.\n",
      " -0.         -0.         -0.          0.          0.         -0.\n",
      " -0.         -0.          0.         -0.         -0.          0.\n",
      "  0.         -0.          0.19172019 -0.         -0.          0.\n",
      " -0.          0.          0.          0.          0.         -0.\n",
      " -0.         -0.         -0.          0.         -0.         -0.\n",
      " -0.          0.         -0.          0.77647613 -0.          0.\n",
      " -0.         -0.         -0.99777999  0.         -0.12426401  0.\n",
      "  0.         -0.         -0.         -0.          0.         -0.\n",
      " -0.          0.          0.          0.         -0.          0.\n",
      " -0.         -0.          0.          0.         -0.         -0.\n",
      "  0.          0.         -0.          0.         -0.          0.\n",
      " -0.26425064 -0.          0.        ]\n"
     ]
    }
   ],
   "source": [
    "lassoMod = Lasso(alpha=1)\n",
    "lassoMod.fit(XTrain,YTrain)\n",
    "print (lassoMod.coef_)"
   ]
  },
  {
   "cell_type": "code",
   "execution_count": null,
   "metadata": {
    "id": "xImB83bKlEVa",
    "outputId": "286a0997-7d2c-4500-cbf6-5b6c8775f108"
   },
   "outputs": [
    {
     "data": {
      "text/plain": [
       "array([ 1.56690689, -0.65876025, -3.84571096, -0.07516   ,  0.06359877,\n",
       "        0.19172019,  0.77647613, -0.99777999, -0.12426401, -0.26425064])"
      ]
     },
     "execution_count": 87,
     "metadata": {
      "tags": []
     },
     "output_type": "execute_result"
    }
   ],
   "source": [
    "lassoMod.coef_[((lassoMod.coef_)!=0)]"
   ]
  },
  {
   "cell_type": "code",
   "execution_count": null,
   "metadata": {
    "id": "YfQN8S3_lEVb",
    "outputId": "3835c560-6657-494c-d63a-58551b92966c"
   },
   "outputs": [
    {
     "data": {
      "text/plain": [
       "['RM',\n",
       " 'PTRATIO',\n",
       " 'LSTAT',\n",
       " 'CRIM_Square',\n",
       " 'ZN_Square',\n",
       " 'CHAS_Square',\n",
       " 'RM_Square',\n",
       " 'RM_PTRATIO',\n",
       " 'RM_LSTAT',\n",
       " 'B_Square']"
      ]
     },
     "execution_count": 88,
     "metadata": {
      "tags": []
     },
     "output_type": "execute_result"
    }
   ],
   "source": [
    "names = [polyfeaturenames[i] for i in list(np.where(lassoMod.coef_ != 0.0)[0])]\n",
    "names"
   ]
  },
  {
   "cell_type": "code",
   "execution_count": null,
   "metadata": {
    "id": "ilrCaysllEVb"
   },
   "outputs": [],
   "source": [
    "lassoMod.MAPE, lassoMod.MSSE = ErrorMetric(lassoMod, XTrain, YTrain)"
   ]
  },
  {
   "cell_type": "code",
   "execution_count": null,
   "metadata": {
    "id": "PJXNI0fQlEVb",
    "outputId": "559c3af3-4d46-4ed5-b60f-7e378cb9197d"
   },
   "outputs": [
    {
     "name": "stdout",
     "output_type": "stream",
     "text": [
      "15.060789081414336 19.778887972486704\n"
     ]
    }
   ],
   "source": [
    "print (lassoMod.MAPE, lassoMod.MSSE)"
   ]
  },
  {
   "cell_type": "code",
   "execution_count": null,
   "metadata": {
    "id": "6IAAuQCylEVb"
   },
   "outputs": [],
   "source": [
    "lassoMod.MAPE, lassoMod.MSSE = ErrorMetric(lassoMod, XTest, YTest)"
   ]
  },
  {
   "cell_type": "code",
   "execution_count": null,
   "metadata": {
    "id": "k8s4dHbelEVb",
    "outputId": "d0af0339-8f5c-4310-fdd7-c754b962c0d4"
   },
   "outputs": [
    {
     "name": "stdout",
     "output_type": "stream",
     "text": [
      "18.83289459332976 21.269395820537735\n"
     ]
    }
   ],
   "source": [
    "print (lassoMod.MAPE, lassoMod.MSSE)"
   ]
  },
  {
   "cell_type": "code",
   "execution_count": null,
   "metadata": {
    "id": "2EvtmIrvlEVc"
   },
   "outputs": [],
   "source": [
    "from sklearn.linear_model import Ridge\n"
   ]
  },
  {
   "cell_type": "code",
   "execution_count": null,
   "metadata": {
    "id": "WIXoqI42lEVc",
    "outputId": "9e6b6664-7d2d-421c-f02c-28cf9175266b"
   },
   "outputs": [
    {
     "name": "stdout",
     "output_type": "stream",
     "text": [
      "['CRIM', 'ZN', 'INDUS', 'CHAS', 'NOX', 'RM', 'AGE', 'DIS', 'RAD', 'TAX', 'PTRATIO', 'B', 'LSTAT', 'CRIM_Square', 'CRIM_ZN', 'CRIM_INDUS', 'CRIM_CHAS', 'CRIM_NOX', 'CRIM_RM', 'CRIM_AGE', 'CRIM_DIS', 'CRIM_RAD', 'CRIM_TAX', 'CRIM_PTRATIO', 'CRIM_B', 'CRIM_LSTAT', 'ZN_Square', 'ZN_INDUS', 'ZN_CHAS', 'ZN_NOX', 'ZN_RM', 'ZN_AGE', 'ZN_DIS', 'ZN_RAD', 'ZN_TAX', 'ZN_PTRATIO', 'ZN_B', 'ZN_LSTAT', 'INDUS_Square', 'INDUS_CHAS', 'INDUS_NOX', 'INDUS_RM', 'INDUS_AGE', 'INDUS_DIS', 'INDUS_RAD', 'INDUS_TAX', 'INDUS_PTRATIO', 'INDUS_B', 'INDUS_LSTAT', 'CHAS_Square', 'CHAS_NOX', 'CHAS_RM', 'CHAS_AGE', 'CHAS_DIS', 'CHAS_RAD', 'CHAS_TAX', 'CHAS_PTRATIO', 'CHAS_B', 'CHAS_LSTAT', 'NOX_Square', 'NOX_RM', 'NOX_AGE', 'NOX_DIS', 'NOX_RAD', 'NOX_TAX', 'NOX_PTRATIO', 'NOX_B', 'NOX_LSTAT', 'RM_Square', 'RM_AGE', 'RM_DIS', 'RM_RAD', 'RM_TAX', 'RM_PTRATIO', 'RM_B', 'RM_LSTAT', 'AGE_Square', 'AGE_DIS', 'AGE_RAD', 'AGE_TAX', 'AGE_PTRATIO', 'AGE_B', 'AGE_LSTAT', 'DIS_Square', 'DIS_RAD', 'DIS_TAX', 'DIS_PTRATIO', 'DIS_B', 'DIS_LSTAT', 'RAD_Square', 'RAD_TAX', 'RAD_PTRATIO', 'RAD_B', 'RAD_LSTAT', 'TAX_Square', 'TAX_PTRATIO', 'TAX_B', 'TAX_LSTAT', 'PTRATIO_Square', 'PTRATIO_B', 'PTRATIO_LSTAT', 'B_Square', 'B_LSTAT', 'LSTAT_Square']\n",
      "8.927324111629124 5.485870224133329\n"
     ]
    }
   ],
   "source": [
    "ridgeMod1 = Ridge(alpha=1)\n",
    "ridgeMod1.fit(XTrain,YTrain)\n",
    "names = [polyfeaturenames[i] for i in list(np.where(ridgeMod1.coef_ != 0.0)[0])]\n",
    "print(names)\n",
    "ridgeMod1.MAPE, ridgeMod1.MSSE = ErrorMetric(ridgeMod1, XTrain, YTrain)\n",
    "print (ridgeMod1.MAPE, ridgeMod1.MSSE)\n"
   ]
  },
  {
   "cell_type": "code",
   "execution_count": null,
   "metadata": {
    "id": "84YKKoPUlEVc",
    "outputId": "aab3f479-d19e-4648-8f35-c5953ee1942f"
   },
   "outputs": [
    {
     "name": "stdout",
     "output_type": "stream",
     "text": [
      "['intercept', 'CRIM', 'ZN', 'INDUS', 'CHAS', 'NOX', 'RM', 'AGE', 'DIS', 'RAD', 'TAX', 'PTRATIO', 'B', 'LSTAT', 'CRIM_Square', 'CRIM_ZN', 'CRIM_INDUS', 'CRIM_CHAS', 'CRIM_NOX', 'CRIM_RM', 'CRIM_AGE', 'CRIM_DIS', 'CRIM_RAD', 'CRIM_TAX', 'CRIM_PTRATIO', 'CRIM_B', 'CRIM_LSTAT', 'ZN_Square', 'ZN_INDUS', 'ZN_CHAS', 'ZN_NOX', 'ZN_RM', 'ZN_AGE', 'ZN_DIS', 'ZN_RAD', 'ZN_TAX', 'ZN_PTRATIO', 'ZN_B', 'ZN_LSTAT', 'INDUS_Square', 'INDUS_CHAS', 'INDUS_NOX', 'INDUS_RM', 'INDUS_AGE', 'INDUS_DIS', 'INDUS_RAD', 'INDUS_TAX', 'INDUS_PTRATIO', 'INDUS_B', 'INDUS_LSTAT', 'CHAS_Square', 'CHAS_NOX', 'CHAS_RM', 'CHAS_AGE', 'CHAS_DIS', 'CHAS_RAD', 'CHAS_TAX', 'CHAS_PTRATIO', 'CHAS_B', 'CHAS_LSTAT', 'NOX_Square', 'NOX_RM', 'NOX_AGE', 'NOX_DIS', 'NOX_RAD', 'NOX_TAX', 'NOX_PTRATIO', 'NOX_B', 'NOX_LSTAT', 'RM_Square', 'RM_AGE', 'RM_DIS', 'RM_RAD', 'RM_TAX', 'RM_PTRATIO', 'RM_B', 'RM_LSTAT', 'AGE_Square', 'AGE_DIS', 'AGE_RAD', 'AGE_TAX', 'AGE_PTRATIO', 'AGE_B', 'AGE_LSTAT', 'DIS_Square', 'DIS_RAD', 'DIS_TAX', 'DIS_PTRATIO', 'DIS_B', 'DIS_LSTAT', 'RAD_Square', 'RAD_TAX', 'RAD_PTRATIO', 'RAD_B', 'RAD_LSTAT', 'TAX_Square', 'TAX_PTRATIO', 'TAX_B', 'TAX_LSTAT', 'PTRATIO_Square', 'PTRATIO_B', 'PTRATIO_LSTAT', 'B_Square', 'B_LSTAT', 'LSTAT_Square']\n",
      "8.531962262569227 5.065651958536032\n"
     ]
    }
   ],
   "source": [
    "ridgeMod1 = Ridge(alpha=0)\n",
    "ridgeMod1.fit(XTrain,YTrain)\n",
    "names = [polyfeaturenames[i] for i in list(np.where(ridgeMod1.coef_ != 0.0)[0])]\n",
    "print(names)\n",
    "ridgeMod1.MAPE, ridgeMod1.MSSE = ErrorMetric(ridgeMod1, XTrain, YTrain)\n",
    "print (ridgeMod1.MAPE, ridgeMod1.MSSE)\n"
   ]
  },
  {
   "cell_type": "code",
   "execution_count": null,
   "metadata": {
    "id": "gRZwiPwulEVc"
   },
   "outputs": [],
   "source": [
    "from sklearn.model_selection import GridSearchCV"
   ]
  },
  {
   "cell_type": "code",
   "execution_count": null,
   "metadata": {
    "id": "_pCRhPlTlEVc"
   },
   "outputs": [],
   "source": [
    "XTrain, XTest, YTrain, YTest = cv.train_test_split(Xpoly,Y, test_size=0.25,random_state=1234)"
   ]
  },
  {
   "cell_type": "code",
   "execution_count": null,
   "metadata": {
    "id": "7GJOE-JZlEVd",
    "outputId": "013d52ff-16b3-4ae9-c56b-df3bce03b69e"
   },
   "outputs": [
    {
     "data": {
      "text/plain": [
       "((379, 105), (127, 105), (379,), (127,))"
      ]
     },
     "execution_count": 101,
     "metadata": {
      "tags": []
     },
     "output_type": "execute_result"
    }
   ],
   "source": [
    "XTrain.shape, XTest.shape, YTrain.shape, YTest.shape"
   ]
  },
  {
   "cell_type": "code",
   "execution_count": null,
   "metadata": {
    "id": "een61FuylEVd"
   },
   "outputs": [],
   "source": [
    "from sklearn.model_selection import ShuffleSplit"
   ]
  },
  {
   "cell_type": "code",
   "execution_count": null,
   "metadata": {
    "id": "h1jIQ28elEVd"
   },
   "outputs": [],
   "source": [
    "from sklearn.metrics import r2_score"
   ]
  },
  {
   "cell_type": "code",
   "execution_count": null,
   "metadata": {
    "id": "5FGSDiaGlEVd"
   },
   "outputs": [],
   "source": [
    "def performance_metric(y_true, y_predict):\n",
    "    score = r2_score(y_true, y_predict)\n",
    "    return score"
   ]
  },
  {
   "cell_type": "code",
   "execution_count": null,
   "metadata": {
    "id": "Bs1ise7MlEVd"
   },
   "outputs": [],
   "source": [
    "from sklearn.metrics import make_scorer"
   ]
  },
  {
   "cell_type": "code",
   "execution_count": null,
   "metadata": {
    "id": "SH6GRjZTlEVe"
   },
   "outputs": [],
   "source": [
    "def fit_model(X,y):\n",
    "    cv_sets = ShuffleSplit(XTrain.shape[0],\n",
    "                           test_size=0.20,\n",
    "                           random_state=1234)\n",
    "    ridgeModel = Ridge()\n",
    "    params = {'alpha':list(range(0,12)),\n",
    "             'solver' : ('auto', \n",
    "                         'svd', \n",
    "                         'cholesky', \n",
    "                         'lsqr', \n",
    "                         'sparse_cg', \n",
    "                         'sag', \n",
    "                         'saga')}\n",
    "    scoring_func = make_scorer(performance_metric)\n",
    "    grid = GridSearchCV(ridgeModel,params,scoring_func,cv=cv_sets)\n",
    "    grid = grid.fit(X,y)\n",
    "    return grid.best_estimator_"
   ]
  },
  {
   "cell_type": "code",
   "execution_count": null,
   "metadata": {
    "id": "JFqJBH1tlEVe"
   },
   "outputs": [],
   "source": [
    "final_model = fit_model(XTrain,YTrain)"
   ]
  },
  {
   "cell_type": "code",
   "execution_count": null,
   "metadata": {
    "id": "jnXuZ7QIlEVe",
    "outputId": "3a822625-5d35-4e5c-c032-8d4384448d36"
   },
   "outputs": [
    {
     "data": {
      "text/plain": [
       "(9.377393843857805, 6.563589918182345)"
      ]
     },
     "execution_count": 112,
     "metadata": {
      "tags": []
     },
     "output_type": "execute_result"
    }
   ],
   "source": [
    "ErrorMetric(final_model, XTrain, YTrain)"
   ]
  },
  {
   "cell_type": "code",
   "execution_count": null,
   "metadata": {
    "id": "dBpSmgWvlEVe",
    "outputId": "d2c39984-8553-4799-f10c-012b37a4c9fd"
   },
   "outputs": [
    {
     "data": {
      "text/plain": [
       "(12.625047369373233, 10.922663960766162)"
      ]
     },
     "execution_count": 113,
     "metadata": {
      "tags": []
     },
     "output_type": "execute_result"
    }
   ],
   "source": [
    "ErrorMetric(final_model, XTest, YTest)"
   ]
  },
  {
   "cell_type": "code",
   "execution_count": null,
   "metadata": {
    "id": "PQgthVOblEVe",
    "outputId": "9c712e15-b709-4e9f-a394-072477949c8b"
   },
   "outputs": [
    {
     "name": "stdout",
     "output_type": "stream",
     "text": [
      "0.8839842461082027 0.9162108444114797\n"
     ]
    }
   ],
   "source": [
    "regr2.adjR2, regr2.R2 = AdjustedRSquare(final_model, XTrain, YTrain)\n",
    "print (regr2.adjR2, regr2.R2)"
   ]
  },
  {
   "cell_type": "code",
   "execution_count": null,
   "metadata": {
    "id": "EMa0GsghlEVf",
    "outputId": "ab44351e-fe2e-44e0-b3fd-3adcf1624637"
   },
   "outputs": [
    {
     "name": "stdout",
     "output_type": "stream",
     "text": [
      "0.3591500323173351 0.8931916720528892\n"
     ]
    }
   ],
   "source": [
    "regr2.adjR2, regr2.R2 = AdjustedRSquare(final_model, XTest, YTest)\n",
    "print (regr2.adjR2, regr2.R2)"
   ]
  },
  {
   "cell_type": "code",
   "execution_count": null,
   "metadata": {
    "id": "D8_aFkN1lEVf"
   },
   "outputs": [],
   "source": []
  }
 ],
 "metadata": {
  "colab": {
   "name": "Linear_Poly_Ridge_Lasso_Elasticnet_Grid_CV (2).ipynb",
   "provenance": []
  },
  "kernelspec": {
   "display_name": "Python 3",
   "language": "python",
   "name": "python3"
  },
  "language_info": {
   "codemirror_mode": {
    "name": "ipython",
    "version": 3
   },
   "file_extension": ".py",
   "mimetype": "text/x-python",
   "name": "python",
   "nbconvert_exporter": "python",
   "pygments_lexer": "ipython3",
   "version": "3.8.5"
  }
 },
 "nbformat": 4,
 "nbformat_minor": 1
}
